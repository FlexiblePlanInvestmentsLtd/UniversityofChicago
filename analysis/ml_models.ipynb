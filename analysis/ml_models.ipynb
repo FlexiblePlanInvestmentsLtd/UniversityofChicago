{
 "cells": [
  {
   "cell_type": "markdown",
   "metadata": {},
   "source": [
    "# Machine Learning for Ranking - Modeling Plan"
   ]
  },
  {
   "cell_type": "markdown",
   "metadata": {},
   "source": [
    "## Training Data Structure"
   ]
  },
  {
   "cell_type": "markdown",
   "metadata": {},
   "source": [
    "### Target Variable:\n",
    "We will be trying to predict which securities should be considered for investment over a 1-week or 1-month holding period horizon (depending on the dataset)."
   ]
  },
  {
   "cell_type": "markdown",
   "metadata": {},
   "source": [
    "### Features:\n",
    "* **Lagged Returns:** \n",
    "* **Technical Indicators:**"
   ]
  },
  {
   "cell_type": "markdown",
   "metadata": {},
   "source": [
    "### Datasets:"
   ]
  },
  {
   "cell_type": "markdown",
   "metadata": {},
   "source": [
    "**Broad Assets Universe (Weekly):**"
   ]
  },
  {
   "cell_type": "markdown",
   "metadata": {
    "vscode": {
     "languageId": "plaintext"
    }
   },
   "source": [
    "**Domestic Equity Factor Baskets (Monthly):**"
   ]
  },
  {
   "cell_type": "markdown",
   "metadata": {},
   "source": [
    "**International Equity Factor Baskets (Monthly):**"
   ]
  },
  {
   "cell_type": "markdown",
   "metadata": {},
   "source": [
    "## Candidate Models"
   ]
  },
  {
   "cell_type": "markdown",
   "metadata": {},
   "source": [
    "We will build a classification model that will predict whether a given security is likely to exhibit positive or negative returns over the holding forthcoming holding period. We will also build a time series forecasting model that will predict future period returns to compare performance of each approach."
   ]
  },
  {
   "cell_type": "markdown",
   "metadata": {},
   "source": [
    "### Classification Model - Random Forest / XGBoost:"
   ]
  },
  {
   "cell_type": "markdown",
   "metadata": {},
   "source": [
    "* **Advantages:** We can increase the size of the training data by stacking the returns on top of one another. Additionally, classification is a simpler objective because we are only predicting for direction and not magnitude. \n",
    "\n",
    "* **Disadvantages:** We are not considering the impact of time in the data. It is a well known fact that security returns are auto-correlated by nature (i.e: past returns influence future returns, at least over short time windows).\n",
    "\n",
    "https://www.geeksforgeeks.org/logistic-regression-vs-random-forest-classifier/"
   ]
  },
  {
   "cell_type": "markdown",
   "metadata": {},
   "source": [
    "### Time-Series Model - ARIMA / SARIMA: "
   ]
  },
  {
   "cell_type": "markdown",
   "metadata": {},
   "source": [
    "* **Advantages:** These models will account for the auto-correlation of the returns data. Additionally, it will provide a number for forecasted returns that could be used in the weighting optimization step.\n",
    "\n",
    "* **Disadvantages:** We have to consider each security independently, so the training size of the data will be smaller. This will surely affect the performance of the model.\n",
    "\n",
    "https://builtin.com/data-science/time-series-forecasting-python"
   ]
  },
  {
   "cell_type": "markdown",
   "metadata": {},
   "source": [
    "## Model Evaluation & Backtesting"
   ]
  },
  {
   "cell_type": "markdown",
   "metadata": {},
   "source": [
    "### Classification Models - K-Fold Cross Validation: \n",
    "https://scikit-learn.org/stable/modules/cross_validation.html\n",
    "\n",
    "https://scikit-learn.org/stable/modules/generated/sklearn.model_selection.KFold.html\n",
    "\n",
    "https://www.geeksforgeeks.org/cross-validation-using-k-fold-with-scikit-learn/\n",
    "\n",
    "https://stackoverflow.com/questions/73893276/how-to-apply-the-result-of-k-fold-cross-validation-on-my-original-test-set"
   ]
  },
  {
   "cell_type": "markdown",
   "metadata": {},
   "source": [
    "### Time-Series Models - Walk Forward Validation:\n",
    "https://medium.com/eatpredlove/time-series-cross-validation-a-walk-forward-approach-in-python-8534dd1db51a\n",
    "\n",
    "https://stackoverflow.com/questions/31947183/how-to-implement-walk-forward-testing-in-sklearn\n",
    "\n",
    "https://machinelearningmastery.com/backtest-machine-learning-models-time-series-forecasting/"
   ]
  },
  {
   "cell_type": "markdown",
   "metadata": {},
   "source": [
    "## Parameter & Hyperparameter Tuning"
   ]
  },
  {
   "cell_type": "markdown",
   "metadata": {},
   "source": [
    "## Backtesting"
   ]
  },
  {
   "cell_type": "code",
   "execution_count": null,
   "metadata": {
    "vscode": {
     "languageId": "plaintext"
    }
   },
   "outputs": [],
   "source": []
  },
  {
   "cell_type": "code",
   "execution_count": null,
   "metadata": {
    "vscode": {
     "languageId": "plaintext"
    }
   },
   "outputs": [],
   "source": []
  }
 ],
 "metadata": {
  "language_info": {
   "name": "python"
  }
 },
 "nbformat": 4,
 "nbformat_minor": 2
}
