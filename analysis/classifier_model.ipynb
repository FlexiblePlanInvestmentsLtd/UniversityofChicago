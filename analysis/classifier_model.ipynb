{
 "cells": [
  {
   "cell_type": "code",
   "execution_count": 1,
   "metadata": {},
   "outputs": [],
   "source": [
    "import numpy as np\n",
    "import pandas as pd\n",
    "import os\n",
    "from sklearn.tree import DecisionTreeClassifier\n",
    "from sklearn.ensemble import RandomForestClassifier\n",
    "from sklearn.model_selection import train_test_split\n",
    "from sklearn.metrics import accuracy_score\n",
    "from xgboost import XGBClassifier\n",
    "import matplotlib.pyplot as plt\n",
    "import seaborn as sns\n",
    "sns.set_style(\"whitegrid\")\n",
    "\n",
    "RANDOM_STATE = 55 ## We will pass it to every sklearn call so we ensure reproducibility"
   ]
  },
  {
   "cell_type": "markdown",
   "metadata": {},
   "source": [
    "# Load the Data and set up train and test"
   ]
  },
  {
   "cell_type": "code",
   "execution_count": 2,
   "metadata": {},
   "outputs": [
    {
     "data": {
      "text/html": [
       "<div>\n",
       "<style scoped>\n",
       "    .dataframe tbody tr th:only-of-type {\n",
       "        vertical-align: middle;\n",
       "    }\n",
       "\n",
       "    .dataframe tbody tr th {\n",
       "        vertical-align: top;\n",
       "    }\n",
       "\n",
       "    .dataframe thead th {\n",
       "        text-align: right;\n",
       "    }\n",
       "</style>\n",
       "<table border=\"1\" class=\"dataframe\">\n",
       "  <thead>\n",
       "    <tr style=\"text-align: right;\">\n",
       "      <th></th>\n",
       "      <th>target</th>\n",
       "      <th>lag1</th>\n",
       "      <th>roc</th>\n",
       "      <th>rsi</th>\n",
       "      <th>ewma</th>\n",
       "      <th>skew</th>\n",
       "      <th>kurtosis</th>\n",
       "      <th>macd_line</th>\n",
       "      <th>macd_signal</th>\n",
       "      <th>macd_histogram</th>\n",
       "    </tr>\n",
       "  </thead>\n",
       "  <tbody>\n",
       "    <tr>\n",
       "      <th>0</th>\n",
       "      <td>0</td>\n",
       "      <td>-0.026656</td>\n",
       "      <td>0.140818</td>\n",
       "      <td>46.265533</td>\n",
       "      <td>0.047828</td>\n",
       "      <td>0.309292</td>\n",
       "      <td>1.079368</td>\n",
       "      <td>0.000565</td>\n",
       "      <td>-0.000882</td>\n",
       "      <td>0.001447</td>\n",
       "    </tr>\n",
       "    <tr>\n",
       "      <th>1</th>\n",
       "      <td>1</td>\n",
       "      <td>-0.004134</td>\n",
       "      <td>0.074442</td>\n",
       "      <td>57.261623</td>\n",
       "      <td>0.045442</td>\n",
       "      <td>0.304377</td>\n",
       "      <td>1.089578</td>\n",
       "      <td>0.002485</td>\n",
       "      <td>0.000868</td>\n",
       "      <td>0.001617</td>\n",
       "    </tr>\n",
       "    <tr>\n",
       "      <th>2</th>\n",
       "      <td>0</td>\n",
       "      <td>0.040214</td>\n",
       "      <td>0.068957</td>\n",
       "      <td>72.581668</td>\n",
       "      <td>0.041329</td>\n",
       "      <td>0.305748</td>\n",
       "      <td>1.110621</td>\n",
       "      <td>-0.000416</td>\n",
       "      <td>0.000647</td>\n",
       "      <td>-0.001063</td>\n",
       "    </tr>\n",
       "  </tbody>\n",
       "</table>\n",
       "</div>"
      ],
      "text/plain": [
       "   target      lag1       roc        rsi      ewma      skew  kurtosis  \\\n",
       "0       0 -0.026656  0.140818  46.265533  0.047828  0.309292  1.079368   \n",
       "1       1 -0.004134  0.074442  57.261623  0.045442  0.304377  1.089578   \n",
       "2       0  0.040214  0.068957  72.581668  0.041329  0.305748  1.110621   \n",
       "\n",
       "   macd_line  macd_signal  macd_histogram  \n",
       "0   0.000565    -0.000882        0.001447  \n",
       "1   0.002485     0.000868        0.001617  \n",
       "2  -0.000416     0.000647       -0.001063  "
      ]
     },
     "metadata": {},
     "output_type": "display_data"
    },
    {
     "data": {
      "text/html": [
       "<div>\n",
       "<style scoped>\n",
       "    .dataframe tbody tr th:only-of-type {\n",
       "        vertical-align: middle;\n",
       "    }\n",
       "\n",
       "    .dataframe tbody tr th {\n",
       "        vertical-align: top;\n",
       "    }\n",
       "\n",
       "    .dataframe thead th {\n",
       "        text-align: right;\n",
       "    }\n",
       "</style>\n",
       "<table border=\"1\" class=\"dataframe\">\n",
       "  <thead>\n",
       "    <tr style=\"text-align: right;\">\n",
       "      <th></th>\n",
       "      <th>target</th>\n",
       "      <th>lag1</th>\n",
       "      <th>roc</th>\n",
       "      <th>rsi</th>\n",
       "      <th>ewma</th>\n",
       "      <th>skew</th>\n",
       "      <th>kurtosis</th>\n",
       "      <th>macd_line</th>\n",
       "      <th>macd_signal</th>\n",
       "      <th>macd_histogram</th>\n",
       "    </tr>\n",
       "  </thead>\n",
       "  <tbody>\n",
       "    <tr>\n",
       "      <th>0</th>\n",
       "      <td>0</td>\n",
       "      <td>0.033702</td>\n",
       "      <td>-0.032965</td>\n",
       "      <td>38.716571</td>\n",
       "      <td>0.099559</td>\n",
       "      <td>-0.140854</td>\n",
       "      <td>11.292315</td>\n",
       "      <td>-0.002744</td>\n",
       "      <td>-0.003090</td>\n",
       "      <td>0.000346</td>\n",
       "    </tr>\n",
       "    <tr>\n",
       "      <th>1</th>\n",
       "      <td>1</td>\n",
       "      <td>-0.042305</td>\n",
       "      <td>0.040393</td>\n",
       "      <td>62.207613</td>\n",
       "      <td>0.092577</td>\n",
       "      <td>-0.141921</td>\n",
       "      <td>11.286118</td>\n",
       "      <td>0.003178</td>\n",
       "      <td>-0.000351</td>\n",
       "      <td>0.003529</td>\n",
       "    </tr>\n",
       "    <tr>\n",
       "      <th>2</th>\n",
       "      <td>0</td>\n",
       "      <td>0.084668</td>\n",
       "      <td>-0.001617</td>\n",
       "      <td>54.223256</td>\n",
       "      <td>0.083020</td>\n",
       "      <td>-0.141565</td>\n",
       "      <td>11.285679</td>\n",
       "      <td>-0.000724</td>\n",
       "      <td>0.000135</td>\n",
       "      <td>-0.000859</td>\n",
       "    </tr>\n",
       "  </tbody>\n",
       "</table>\n",
       "</div>"
      ],
      "text/plain": [
       "   target      lag1       roc        rsi      ewma      skew   kurtosis  \\\n",
       "0       0  0.033702 -0.032965  38.716571  0.099559 -0.140854  11.292315   \n",
       "1       1 -0.042305  0.040393  62.207613  0.092577 -0.141921  11.286118   \n",
       "2       0  0.084668 -0.001617  54.223256  0.083020 -0.141565  11.285679   \n",
       "\n",
       "   macd_line  macd_signal  macd_histogram  \n",
       "0  -0.002744    -0.003090        0.000346  \n",
       "1   0.003178    -0.000351        0.003529  \n",
       "2  -0.000724     0.000135       -0.000859  "
      ]
     },
     "metadata": {},
     "output_type": "display_data"
    }
   ],
   "source": [
    "data_path = os.path.dirname(os.getcwd()) + '/data'\n",
    "data_prefix = '/broad_assets_'\n",
    "train_file = data_path + data_prefix + 'classifier_train_data.xlsx'\n",
    "test_file = data_path + data_prefix + 'classifier_test_data.xlsx'\n",
    "\n",
    "train = pd.read_excel(train_file, index_col=0)\n",
    "test = pd.read_excel(test_file, index_col=0)\n",
    "\n",
    "display(train.head(3))\n",
    "display(test.head(3))"
   ]
  },
  {
   "cell_type": "code",
   "execution_count": 3,
   "metadata": {},
   "outputs": [],
   "source": [
    "features = [col for col in train.columns if col not in 'target']\n",
    "X_train, y_train, X_val, y_val = train.loc[:, features], train['target'], test.loc[:, features], test['target']"
   ]
  },
  {
   "cell_type": "markdown",
   "metadata": {},
   "source": [
    "## Decision Tree"
   ]
  },
  {
   "cell_type": "code",
   "execution_count": 4,
   "metadata": {},
   "outputs": [],
   "source": [
    "min_samples_split_list = [2,10, 30, 50, 100, 200, 300, 700] ## If the number is an integer, then it is the actual quantity of samples,\n",
    "max_depth_list = [1,2, 3, 4, 8, 16, 32, 64, None] # None means that there is no depth limit."
   ]
  },
  {
   "cell_type": "markdown",
   "metadata": {},
   "source": [
    "### Min Samples Hyperparameter Analysis"
   ]
  },
  {
   "cell_type": "code",
   "execution_count": 5,
   "metadata": {},
   "outputs": [
    {
     "data": {
      "text/plain": [
       "<matplotlib.legend.Legend at 0x1462bc0e0>"
      ]
     },
     "execution_count": 5,
     "metadata": {},
     "output_type": "execute_result"
    },
    {
     "data": {
      "image/png": "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",
      "text/plain": [
       "<Figure size 640x480 with 1 Axes>"
      ]
     },
     "metadata": {},
     "output_type": "display_data"
    }
   ],
   "source": [
    "accuracy_list_train = []\n",
    "accuracy_list_val = []\n",
    "for min_samples_split in min_samples_split_list:\n",
    "    # You can fit the model at the same time you define it, because the fit function returns the fitted estimator.\n",
    "    model = DecisionTreeClassifier(min_samples_split = min_samples_split,\n",
    "                                   random_state = RANDOM_STATE).fit(X_train,y_train) \n",
    "    predictions_train = model.predict(X_train) ## The predicted values for the train dataset\n",
    "    predictions_val = model.predict(X_val) ## The predicted values for the test dataset\n",
    "    accuracy_train = accuracy_score(predictions_train,y_train)\n",
    "    accuracy_val = accuracy_score(predictions_val,y_val)\n",
    "    accuracy_list_train.append(accuracy_train)\n",
    "    accuracy_list_val.append(accuracy_val)\n",
    "\n",
    "plt.title('Train x Validation metrics')\n",
    "plt.xlabel('min_samples_split')\n",
    "plt.ylabel('accuracy')\n",
    "plt.xticks(ticks = range(len(min_samples_split_list )),labels=min_samples_split_list)\n",
    "plt.plot(accuracy_list_train)\n",
    "plt.plot(accuracy_list_val)\n",
    "plt.legend(['Train','Validation'])"
   ]
  },
  {
   "cell_type": "markdown",
   "metadata": {},
   "source": [
    "### Max Depth Hyperparameter Analysis"
   ]
  },
  {
   "cell_type": "code",
   "execution_count": 6,
   "metadata": {},
   "outputs": [
    {
     "data": {
      "text/plain": [
       "<matplotlib.legend.Legend at 0x1465b2060>"
      ]
     },
     "execution_count": 6,
     "metadata": {},
     "output_type": "execute_result"
    },
    {
     "data": {
      "image/png": "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",
      "text/plain": [
       "<Figure size 640x480 with 1 Axes>"
      ]
     },
     "metadata": {},
     "output_type": "display_data"
    }
   ],
   "source": [
    "accuracy_list_train = []\n",
    "accuracy_list_val = []\n",
    "for max_depth in max_depth_list:\n",
    "    # You can fit the model at the same time you define it, because the fit function returns the fitted estimator.\n",
    "    model = DecisionTreeClassifier(max_depth = max_depth,\n",
    "                                   random_state = RANDOM_STATE).fit(X_train,y_train) \n",
    "    predictions_train = model.predict(X_train) ## The predicted values for the train dataset\n",
    "    predictions_val = model.predict(X_val) ## The predicted values for the test dataset\n",
    "    accuracy_train = accuracy_score(predictions_train,y_train)\n",
    "    accuracy_val = accuracy_score(predictions_val,y_val)\n",
    "    accuracy_list_train.append(accuracy_train)\n",
    "    accuracy_list_val.append(accuracy_val)\n",
    "\n",
    "plt.title('Train x Validation metrics')\n",
    "plt.xlabel('max_depth')\n",
    "plt.ylabel('accuracy')\n",
    "plt.xticks(ticks = range(len(max_depth_list )),labels=max_depth_list)\n",
    "plt.plot(accuracy_list_train)\n",
    "plt.plot(accuracy_list_val)\n",
    "plt.legend(['Train','Validation'])"
   ]
  },
  {
   "cell_type": "code",
   "execution_count": 7,
   "metadata": {},
   "outputs": [
    {
     "name": "stdout",
     "output_type": "stream",
     "text": [
      "Metrics train:\n",
      "\tAccuracy score: 0.8566\n",
      "Metrics validation:\n",
      "\tAccuracy score: 0.8256\n"
     ]
    }
   ],
   "source": [
    "decision_tree_model = DecisionTreeClassifier(min_samples_split = 700,\n",
    "                                             max_depth = 4,\n",
    "                                             random_state = RANDOM_STATE).fit(X_train,y_train)\n",
    "\n",
    "print(f\"Metrics train:\\n\\tAccuracy score: {accuracy_score(decision_tree_model.predict(X_train),y_train):.4f}\")\n",
    "print(f\"Metrics validation:\\n\\tAccuracy score: {accuracy_score(decision_tree_model.predict(X_val),y_val):.4f}\")"
   ]
  },
  {
   "cell_type": "markdown",
   "metadata": {},
   "source": [
    "## Random Forest"
   ]
  },
  {
   "cell_type": "code",
   "execution_count": 8,
   "metadata": {},
   "outputs": [],
   "source": [
    "min_samples_split_list = [2,10, 30, 50, 100, 200, 300, 700]  ## If the number is an integer, then it is the actual quantity of samples,\n",
    "                                             ## If it is a float, then it is the percentage of the dataset\n",
    "max_depth_list = [2, 4, 8, 16, 32, 64, None]\n",
    "n_estimators_list = [10,50,100,500]"
   ]
  },
  {
   "cell_type": "markdown",
   "metadata": {},
   "source": [
    "### Min Samples Hyperparameter Analysis"
   ]
  },
  {
   "cell_type": "code",
   "execution_count": 9,
   "metadata": {},
   "outputs": [
    {
     "data": {
      "text/plain": [
       "<matplotlib.legend.Legend at 0x1462c9220>"
      ]
     },
     "execution_count": 9,
     "metadata": {},
     "output_type": "execute_result"
    },
    {
     "data": {
      "image/png": "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",
      "text/plain": [
       "<Figure size 640x480 with 1 Axes>"
      ]
     },
     "metadata": {},
     "output_type": "display_data"
    }
   ],
   "source": [
    "accuracy_list_train = []\n",
    "accuracy_list_val = []\n",
    "for min_samples_split in min_samples_split_list:\n",
    "    # You can fit the model at the same time you define it, because the fit function returns the fitted estimator.\n",
    "    model = RandomForestClassifier(min_samples_split = min_samples_split,\n",
    "                                   random_state = RANDOM_STATE).fit(X_train,y_train) \n",
    "    predictions_train = model.predict(X_train) ## The predicted values for the train dataset\n",
    "    predictions_val = model.predict(X_val) ## The predicted values for the test dataset\n",
    "    accuracy_train = accuracy_score(predictions_train,y_train)\n",
    "    accuracy_val = accuracy_score(predictions_val,y_val)\n",
    "    accuracy_list_train.append(accuracy_train)\n",
    "    accuracy_list_val.append(accuracy_val)\n",
    "\n",
    "plt.title('Train x Validation metrics')\n",
    "plt.xlabel('min_samples_split')\n",
    "plt.ylabel('accuracy')\n",
    "plt.xticks(ticks = range(len(min_samples_split_list )),labels=min_samples_split_list) \n",
    "plt.plot(accuracy_list_train)\n",
    "plt.plot(accuracy_list_val)\n",
    "plt.legend(['Train','Validation'])"
   ]
  },
  {
   "cell_type": "markdown",
   "metadata": {},
   "source": [
    "### Max Depth Hyperparameter Analysis"
   ]
  },
  {
   "cell_type": "code",
   "execution_count": 10,
   "metadata": {},
   "outputs": [
    {
     "data": {
      "text/plain": [
       "<matplotlib.legend.Legend at 0x146b91820>"
      ]
     },
     "execution_count": 10,
     "metadata": {},
     "output_type": "execute_result"
    },
    {
     "data": {
      "image/png": "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",
      "text/plain": [
       "<Figure size 640x480 with 1 Axes>"
      ]
     },
     "metadata": {},
     "output_type": "display_data"
    }
   ],
   "source": [
    "accuracy_list_train = []\n",
    "accuracy_list_val = []\n",
    "for max_depth in max_depth_list:\n",
    "    # You can fit the model at the same time you define it, because the fit function returns the fitted estimator.\n",
    "    model = RandomForestClassifier(max_depth = max_depth,\n",
    "                                   random_state = RANDOM_STATE).fit(X_train,y_train) \n",
    "    predictions_train = model.predict(X_train) ## The predicted values for the train dataset\n",
    "    predictions_val = model.predict(X_val) ## The predicted values for the test dataset\n",
    "    accuracy_train = accuracy_score(predictions_train,y_train)\n",
    "    accuracy_val = accuracy_score(predictions_val,y_val)\n",
    "    accuracy_list_train.append(accuracy_train)\n",
    "    accuracy_list_val.append(accuracy_val)\n",
    "\n",
    "plt.title('Train x Validation metrics')\n",
    "plt.xlabel('max_depth')\n",
    "plt.ylabel('accuracy')\n",
    "plt.xticks(ticks = range(len(max_depth_list )),labels=max_depth_list)\n",
    "plt.plot(accuracy_list_train)\n",
    "plt.plot(accuracy_list_val)\n",
    "plt.legend(['Train','Validation'])"
   ]
  },
  {
   "cell_type": "markdown",
   "metadata": {},
   "source": [
    "### N Estimators Hyperparameter Analysis"
   ]
  },
  {
   "cell_type": "code",
   "execution_count": 11,
   "metadata": {},
   "outputs": [
    {
     "data": {
      "text/plain": [
       "<matplotlib.legend.Legend at 0x146aec890>"
      ]
     },
     "execution_count": 11,
     "metadata": {},
     "output_type": "execute_result"
    },
    {
     "data": {
      "image/png": "iVBORw0KGgoAAAANSUhEUgAAAjoAAAHBCAYAAABg9RGHAAAAOXRFWHRTb2Z0d2FyZQBNYXRwbG90bGliIHZlcnNpb24zLjguNCwgaHR0cHM6Ly9tYXRwbG90bGliLm9yZy8fJSN1AAAACXBIWXMAAA9hAAAPYQGoP6dpAABSw0lEQVR4nO3deVxUVeM/8M9swIAiICqJmEqIGwYCoiYukGCAPiokPiqZlJoISouP9rglppnLr2+opKalJmUuYC712PNYmpUbLoWWpSKKkqhsyg4z9/cHMjkCwgAzA5fP+/Xixcy59545Bw/Dx3PP3CsRBEEAERERkQhJjd0AIiIiIn1h0CEiIiLRYtAhIiIi0WLQISIiItFi0CEiIiLRYtAhIiIi0WLQISIiItFi0CEiIiLRYtAhIgIg1munirVfRLXFoENkQHPnzoWzs/MTv3x8fOr1GgkJCXB2dsbNmzcbqNW1M3/+fPTo0QN3796tdp+IiAgMHDgQKpWqxvrmzp2r9bPw8fHB3LlzdTqmNm7fvo1p06bh1q1bOr1WU3DmzBlMmzatxv3WrFkDZ2dnA7SIyPDkxm4AUXMSERGBcePGaZ7HxcXht99+w9q1azVlJiYm9XqNIUOG4Msvv0Tbtm3rVY+uQkJCsGvXLhw8eBAvv/xype3Z2dn44YcfEB4eDplMpnP9a9euRYsWLRqgpdp+/vlnHDlyBAsWLND7axnarl27cOXKlRr3e/HFF+Ht7W2AFhEZHoMOkQF17NgRHTt21Dy3sbGBiYkJXF1dG+w1bGxsYGNj02D11ZarqyueeeYZ7Nu3r8qgc+DAAZSVlSEkJKRO9ffo0aOeLWycr9UY2NnZwc7OztjNINILnroiaoROnjwJZ2dn7NixA0OHDsWAAQPw448/Aij/X/qYMWPg6uqK3r174x//+Ae+/vprzbGPn7qaO3cuXn75ZezZswf+/v7o1asXRo4ciaNHj1b7+hcvXkTPnj21Tt9kZ2fjueeeQ1hYGNRqdZXHBQcH4+LFi0hJSam0LTExEX379kXHjh1RVFSE1atXw8/PD7169UKfPn0wefJk/P7779W26fHTSbm5uXj77bfh5eUFT09PrFy5slK7VCoVNm7ciKCgIPTu3Ruurq4YN24cjh8/rvlZvf322wAAX19fTf2Pv9aDBw/w3nvv4fnnn4eLiwuCgoKwe/fuSu2LjY3F+++/jwEDBqB379545ZVXcO3atWr7BADOzs744osvMHfuXLi7u6Nv37549913UVRUhPfffx/9+vWDl5cX5s2bh+LiYs1xarUaGzduxLBhw9CrVy/4+/vjs88+02yfO3cuEhMTcevWLTg7OyMhIQE3b96Es7MzPv30U7zwwgvo27cvEhISqjx1dfDgQYwZMwbPPvsshgwZgpUrV6KkpAQAUFxcjMWLF2PQoEHo1asXhg8fjk8++eSJ/SQyFgYdokbsgw8+wJw5czBnzhy4uroiPj4eCxcuhK+vLzZs2ICVK1dCoVBg9uzZSE9Pr7aeCxcuYPPmzZg5cybWrVsHuVyOmTNnIjc3t8r9e/bsiWnTpiExMVETChYtWoSSkhKsWLECUmnVbx2jRo2CQqHAvn37tMqvXLmCixcvamZz/vWvf2H37t2YOnUqPvnkE8ydOxd//vknXn/99VotnlWr1Xj11Vdx5MgRvPXWW3j//fdx7tw5rcAHAKtWrcK6desQGhqKTZs2ISYmBtnZ2Zg1axYKCgowZMgQTJ8+HUD56aqIiIhKr1VUVITx48dj3759CA8PR1xcHNzd3TFv3jysX79ea99t27YhJSUF7733Ht59911cuHChVmt9Vq1aBRMTE6xduxb/+Mc/8Nlnn2HUqFH466+/sHLlSowbNw67d+/WCjLvvPMOYmNjMXLkSKxfvx7Dhw/HsmXLsG7dOgDlp0kHDx6MNm3a4Msvv8SQIUM0x37wwQd45ZVX8O6776Jfv36V2rNjxw688cYb6N69O9auXYtp06bh888/xzvvvAMAWLp0KY4ePYo5c+Zg8+bN8PX1xfvvv4+EhIQa+0pkaDx1RdSIjRs3DsOHD9c8T0tLQ3h4OGbMmKEp69ChA8aMGYOzZ8+iffv2Vdbz4MEDJCQkaE6bmZubY+LEiThx4gT8/f2rPGb69On4/vvv8c4772D69Ok4dOgQVq9ejaeeeqra9trY2GDIkCE4cOAAoqOjNeWJiYlo1aoV/P39UVJSgvz8fCxYsAABAQEAgL59+yI/Px/Lly/H3bt3a1xf9MMPP+DXX3/Fhg0bNH/A+/XrV2kh8p07d/D6668jLCxMU2ZmZoaoqCj88ccfcHNz0/xMunfvjg4dOlR6rYSEBPz555/4/PPP4e7uDgDw9vZGWVkZ4uLiMG7cOFhZWQEALC0tERcXp1mDdOPGDaxZswbZ2dmwtrautj+Ojo6IiYkBAHh6emL37t0oLS3FqlWrIJfL4e3tje+++w5nz54FAFy7dg07d+7EG2+8galTpwIABg4cCIlEgg0bNmD8+PHo2LFjpVOjBQUFAAA/P79qTyGq1WqsWbMGw4YNw9KlSzXlxcXFSExMRElJCU6dOoUBAwYgMDAQAODl5QVzc/Mn9pHIWBh0iBqxx08nVMwOPHjwAKmpqUhNTdXMuJSWllZbj42NjdbaoIr1GIWFhdUeo1AosHz5cgQHB+Ptt9/GiBEjEBQUVGObQ0JCMG3aNJw9exZ9+vSBWq3G/v37MWLECJiamgIANm/eDKA8iFy/fh0pKSn4/vvva+xHhaSkJCgUCgwaNEhTZm5ujsGDB+P06dOastWrVwMAsrKycP36dVy7dg3fffddrV8HAE6dOgV7e3tNyKkwcuRI7N69G7/88gsGDx4MAHBxcdFaaP3oz/lJIcDNzU3zWC6Xw9raGr169YJc/vdbtJWVFR48eAAAOHHiBARBgI+PD8rKyjT7+Pj44KOPPsKZM2fw/PPPV/t6Xbt2rXbbtWvXcO/evUrHv/zyy5q1V15eXtixYwcyMjIwdOhQDB48WCt8EzUmDDpEjVjr1q21nt+4cQMLFy7EiRMnIJfL0aVLF00YetIpH6VSqfVcIpEAQLVrbSo4OzujZ8+eOH/+fK0/tu3t7Y127dph//796NOnD37++WdkZGRozSAcO3YMy5YtQ0pKCiwsLODs7AwLC4sa+1EhNzcXVlZWlU6htWnTRut5cnIyFi9ejOTkZJiZmeGZZ56Bvb19rV+n4rVsbW0rlVeU3b9/X1P2+M+5on01/Zyr+oTX43U9KicnBwA0MyqPy8jIeOLrVdWfx+t+fOw9at68ebCzs8O+ffuwePFiAOVhbeHChc1uITc1fgw6RE2EWq3G1KlToVAosHPnTvTo0QNyuRxXrlyptCamoezatQvnz59Ht27dsGzZMgwYMEBzmqY6MpkMo0aNws6dOzFv3jzs3bsXPXv2RPfu3QGUh7UZM2Zo1hlVzDTFx8fj2LFjtWqXtbU1srOzoVKptGZQKv5IA0BeXh5effVVODs748CBA3B0dIRUKsXRo0dx6NChWv8MWrVqhevXr1cqr7hekDFO11haWgIAtm7dqgmIj6ruFKYudWdlZWmV5+Tk4OLFi3B1dYWFhQWmT5+O6dOnIz09Hd9//z3i4uLw5ptv4ptvvqnzaxPpAxcjEzUR2dnZuHbtGkJCQtC7d2/NaY0ffvgBQM2zBrpKT0/H8uXLMWbMGGzcuBGFhYWadSQ1CQ4ORk5ODn788Ud89913ePHFFzXbLly4gOLiYkybNk3rdFpFyKnNTEv//v1RVlaG//3vf5qykpIS/PTTT5rnKSkpyMnJwUsvvQQnJyfN7MrjP6/qFlZX8PT0xK1bt3DmzBmt8n379kGhUKB37941treheXp6AigfEy4uLpqvnJwc/N///Z8m8NXUt6p06dIF1tbWOHz4sFb5/v37MWXKFNy/fx/+/v6aT1m1b98eEyZMQGBgIG7fvl2/jhHpAWd0iJqI1q1bw97eHvHx8bCzs4OlpSV+/PFHbN26FcCT19voShAEzJs3D2ZmZpgzZw6srKzwxhtvICYmBn5+floLpKvy9NNPw9PTE++99x5UKpXW2p6ePXtCLpdj5cqVCA8PR0lJCRISEnDkyBEAfy+YfZL+/ftj4MCBmD9/PjIzM2Fvb49t27YhKytLc8qlc+fOaNGiBdavXw+5XA65XI5Dhw5pPhZe8fOqmMH473//i0GDBsHR0VHrtcaMGYPPP/8ckZGRmDlzJhwcHPDdd99hz549iIyM1BxvSF27dsXIkSOxYMEC3Lp1C7169cK1a9fwwQcfoEOHDujUqROA8r7du3cPR48e1cyo1UQmkyEqKgoxMTF45513MGzYMKSmpuL//u//8M9//hNPPfUUevbsibVr10KhUMDZ2RnXrl1DYmJitQvbiYyJMzpETUhcXBzatWuHuXPnIjo6GufPn8dHH32ELl26ICkpqcFe5/PPP8fPP/+MefPmaU5V/fOf/4SbmxveeecdZGZm1lhHcHAwUlNTMXz4cLRs2VJT/vTTT2P16tXIyMjA9OnTsXDhQgDAZ599BolEUut+rF27FiNHjkRsbCyio6NhZ2eHsWPHara3bNkScXFxEAQBs2bNwr/+9S+kp6dj+/btsLCw0LyOl5cXBgwYgNWrV+P999+v9DpKpRKfffaZ5jo506dPx5kzZ7B06VJERUXVqq368N5772Hy5MnYsWMHXn31Vaxfvx4BAQH45JNPNKfzxowZA3t7e8yYMQN79+6tdd0TJkzA8uXLkZSUhGnTpuGTTz5BeHi4ZjF8TEwMxowZoymPi4tDSEiI5uPnRI2JROAd34iIiEikOKNDREREosWgQ0RERKLFoENERESixaBDREREosWgQ0RERKLFoENERESi1awvGKhWq1FWVgapVKq59w8RERE1boIgQK1WQy6X13gF8GYddMrKypCcnGzsZhAREVEduLi4wMTE5In7NOugU5ECXVxctG4M2BBUKhWSk5P1Ujc1XxxXpC8cW6QP+hpXFfXW5n5uzTroVJyukslkevvF1mfd1HxxXJG+cGyRPuhrXNVm2QkXIxMREZFoMegQERGRaDHoEBERkWgx6BAREZFoMegQERGRaDHoEBERkWgx6BAREZFoMegQERGRaDHoEBERkWgx6BAREZFoGTXoZGVlYdiwYTh58mS1+xw9ehQjRoyAq6srXnjhBXz//fda2z/++GMMGjQIrq6uCAsLQ0pKir6bTURERE2E0YLOmTNnEBoaihs3blS7T2pqKqKiojBr1iwkJSUhKioK0dHRyMjIAAAkJibis88+w+bNm3Hy5En07NkTM2fOhCAIhuoGERERNWJGualnYmIiYmNjMXv2bLz++utP3M/DwwPPP/88ACAgIAAJCQn48ssvMXPmTOzcuRPjx4+Hk5MTAODNN9/Ezp07cfLkSfTr188gfSEylNzCUly/l4fzt4tx//JdSCR//z9FK9oLFd/+Ln00+wuC1m4Py4QqyipXqlVPFftW+5qPvY5WzVr7VT6++tes3GZUUVfV7ajhNatpYJXH17S9ijZXVX3NP7snt1m7zif3qcrXVAu4fTsPP2RegURa840SiWpFEGAvKYWrEZtglKAzcOBAjBgxAnK5/IlB58qVK+jatatW2TPPPINLly5ptk+ZMkWzTaFQoFOnTrh06ZJOQUelUunYg9rXqY+6SZweFJUiLasQN3MKcSu7/PvN7L8fPygq+3vnY2eM11ASt9+uGLsFJDKO1nL8Y1DD/i3U5W+rUYJOmzZtarVffn4+lEqlVpmZmRkKCgpqtb22kpOTddq/sdRNTUtBqRp38lXlXwUq3H34+G5B+ff80ppPuVqaSmFlJoWsiv9wP1okqXK7pIbtNR1f/bbqt0tq2F67+g3VN922V+6bLsdX9WN49Niqt1f9mrU//snbiRqaRAL0szcz6t9CowSd2lIqlSgqKtIqKyoqgoWFRa2215aLiwtkMln9GvsYlUqF5ORkvdRNjVNecRluZRciLbsQN7MLcCunEDezizQzMrmFpTXWYWOugL21Eh2slehgbY4OVkrNc3srM5jKJBxXpBd8zyJ90Ne4qqi3Nhp10OnatSsuXryoVXblyhX06tULAODk5ITLly9j6NChAIDS0lKkpqZWOt1VE5lMprdfbH3WTYZVEWRuZhcgLasAN7PLTy3dzCl/nFNQc5CxNleUBxhrJRxszB8GmvJQY2+lhIXpk38lK6ZrOa5IXzi2SB+MOa4addAZOXIkPv30U3z99dfw8/PDt99+i1OnTmHevHkAgODgYKxZswaDBg1C586d8cEHH8DW1hYeHh5Gbjk1RfnFZQ9nYQrK18pkPxJmsguQXYsgY2WuKA8uVo+HGXPYWyvRooYgQ0REDavRveu6ublh8eLFGDlyJBwdHbFu3TqsWrUK8+bNg729PdasWYPOnTsDAEJCQvDgwQPMmDEDWVlZcHFxwYYNG6BQKIzcC2qMCkoqZmQehpls7TCTlV9SYx2tlAqtWZgO1ko4WJujg40S9lZKtDTj2CMiakyMHnT++OMPrefnzp3Teu7t7Q1vb+8qj5VIJAgPD0d4eLje2kdNR2GJCrdyKgLMwxDzyMxMZi2CjKWZXBNgHj/FZG+thCWDDBFRk2L0oENUW0Wlqr8DzMMwk/bw8a3sAtzLqznItDSVo8Nja2MqZmXsrZVopWSQISISEwYdajSKSlUP18g8FmYeLvy9l1dcYx0tTOVaAebxmRkGGSKi5oVBhwymqFSFdE2QeTTMlJ9uuvug5iBjYSLTWuD7eJhppVRoXWuEiIiaNwYdajDFZSqk5xRpBZhHZ2Xu1CLImJvIyhf3PhZgKr5bmTPIEBFR7THoUK2VlKkfmZGpHGYyHhRVed+dRykVsiqvIVPx3ZpBhoiIGhCDDmmUlKnxV27lNTIVj2/frznImCmk6GBtDocqZmM6WCthY2HCIENERAbDoNOMlKrUuJ1b9MhVfbXDzO37RVDXEGRM5dJKF8J79HtrBhkiImpEGHREpEylxl+5RZqPXD8aZm5lF+Kv3MIag4zJwyBTeVam/LFtCwYZIiJqOhh0mpAylRq37xdpfeT68VNLqhqSjIlcqrlRZFWfXrK1MIVUyiBDRETiwKDTiKjUQnmQeRhi0h5b8PtXbi2CjEz6yN2vtU8tOVgrYduCQYaIiJoPBh0DUqkFZDyckal048icAvyVU4SyGoKMQiaBvZX2LMyjMzNtGGSIiIg0GHT05HxaDnb/locdKcm4lVMebtJzCmsVZNpbKau9A3bblgwyREREtcWgowclZWr88+OTKFEJAPK0tsmljwSZKm4c2balGWQMMkRERA2CQUcPTORSvOXXFSd+v4HejvZwsLHQhJl2lgwyREREhsKgoyevDOwM9xa5cHV9BjKZzNjNISIiapakxm4AERERkb4w6BAREZFoMegQERGRaDHoEBERkWgx6BAREZFoMegQERGRaDHoEBERkWgx6BAREZFoMegQERGRaDHoEBERkWgx6BAREZFoMegQERGRaDHoEBERkWgx6BAREZFoMegQERGRaDHoEBERkWgx6BAREZFoMegQERGRaBkl6GRmZiIiIgIeHh7w8vLC0qVLUVZWVuW+CQkJGD58ONzc3BAaGorTp09rthUVFWHhwoV47rnn4OnpiUmTJuHSpUuG6gYRERE1ckYJOtHR0TA3N8exY8ewe/duHD9+HFu2bKm03+HDh7Fo0SLMmTMHSUlJeOWVVzBlyhSkpKQAANasWYPU1FQcPHgQP/30E7p164bIyEgD94aIiIgaK4MHnevXr+PUqVOYPXs2lEolHBwcEBERgfj4+Er7HjhwAEFBQRg6dChkMhn8/Pzg4eGBPXv2AACuXr0KQRAgCAIAQCqVQqlUGrQ/RERE1HjJDf2Cly9fhpWVFdq1a6cpc3R0RHp6Ou7fvw9LS0tNuUqlgrm5udbxUqlUM6MTHh6OqKgo9OvXDzKZDNbW1ti2bZvObVKpVHXsTc116qNuar44rkhfOLZIH/Q1rnSpz+BBJz8/v9KsS8XzgoICraDj7++PhQsXwt/fH3369MGRI0dw/PhxeHp6AijvqL+/P2bMmAELCwusWLECERER2LdvH0xNTWvdpuTk5AbomeHrpuaL44r0hWOL9MGY48rgQcfc3ByFhYVaZRXPLSwstMoDAwORlZWFBQsWIDc3F4MHD0ZQUBAKCwtRWlqKWbNmYePGjZrZoQULFsDT0xM//fQTfHx8at0mFxcXyGSyevZMm0qlQnJysl7qpuaL44r0hWOL9EFf46qi3toweNBxcnJCTk4O7t27B1tbWwDla23s7OzQsmVLrX3v3r0Lb29vhIWFacrGjh0LPz8/FBQUIDc3FyUlJZptMpkMEokECoVCpzbJZDK9/WLrs25qvjiuSF84tkgfjDmuDL4YuVOnTnB3d8eyZcuQl5eHtLQ0xMXFISQkpNK+p0+fRlhYGG7duoXi4mJs2bIF165dw+jRo9GqVSu4u7tj1apVyMzMRHFxMVauXAlra2u4u7sbultERETUCBnl4+WxsbEoKyuDr68vxo4dC29vb0RERAAA3NzcsG/fPgBAQEAAQkNDERoaiv79++Pw4cPYunUrWrduramnU6dOGDlyJAYNGoSrV69i8+bNlRYwExERUfNk8FNXAGBra4vY2Ngqt507d07reWRkZLXXxrG1tcWKFSsavH1EREQkDrwFBBEREYkWgw4RERGJFoMOERERiRaDDhEREYkWgw4RERGJFoMOERERiRaDDhEREYkWgw4RERGJFoMOERERiRaDDhEREYkWgw4RERGJFoMOERERiRaDDhEREYkWgw4RERGJFoMOERERiRaDDhEREYkWgw4RERGJFoMOERERiRaDDhEREYkWgw4RERGJFoMOERERiRaDDhEREYkWgw4RERGJFoMOERERiRaDDhEREYkWgw4RERGJFoMOERERiRaDDhEREYkWgw4RERGJFoMOERERiRaDDhEREYkWgw4RERGJFoMOERERiZZRgk5mZiYiIiLg4eEBLy8vLF26FGVlZVXum5CQgOHDh8PNzQ2hoaE4ffq01vbPP/8cw4YNg5ubG0aMGIHvv//eEF0gIiKiJsAoQSc6Ohrm5uY4duwYdu/ejePHj2PLli2V9jt8+DAWLVqEOXPmICkpCa+88gqmTJmClJQUAEBiYiLWrVuH1atX4+zZs5g2bRqioqKQkZFh4B4RERFRY2TwoHP9+nWcOnUKs2fPhlKphIODAyIiIhAfH19p3wMHDiAoKAhDhw6FTCaDn58fPDw8sGfPHgDAJ598glmzZqF3796QSCQICgrCl19+iRYtWhi6W0RERNQIyQ39gpcvX4aVlRXatWunKXN0dER6ejru378PS0tLTblKpYK5ubnW8VKpFCkpKSgsLMTly5chlUoxYcIEXLlyBZ07d8Zbb70FCwsLndqkUqnq16kn1KmPuqn54rgifeHYIn3Q17jSpT6DB538/HwolUqtsornBQUFWkHH398fCxcuhL+/P/r06YMjR47g+PHj8PT0xP379yEIAj755BN8+OGHePrpp7Fz505MmTIF+/fvR4cOHWrdpuTk5IbpnIHrpuaL44r0hWOL9MGY48rgQcfc3ByFhYVaZRXPH5+JCQwMRFZWFhYsWIDc3FwMHjwYQUFBKCwshEKhAABMnjwZTk5OAICJEyfiiy++wNGjRzFhwoRat8nFxQUymaw+3apEpVIhOTlZL3VT88VxRfrCsUX6oK9xVVFvbRg86Dg5OSEnJwf37t2Dra0tAODq1auws7NDy5Yttfa9e/cuvL29ERYWpikbO3Ys/Pz8YGNjg9atW6OkpETrmLpMj8lkMr39Yuuzbmq+OK5IXzi2SB+MOa4Mvhi5U6dOcHd3x7Jly5CXl4e0tDTExcUhJCSk0r6nT59GWFgYbt26heLiYmzZsgXXrl3D6NGjAQDjxo3DunXr8Pvvv6OsrAzbtm1DRkYGnn/+eUN3i4iIiBohg8/oAEBsbCxiYmLg6+sLqVSKUaNGISIiAgDg5uaGxYsXY+TIkQgICEBKSgpCQ0NRUFCAnj17YuvWrWjdujUAIDIyEi1atEB0dDTu3LmDLl264OOPP9Za6ExERETNl1GCjq2tLWJjY6vcdu7cOa3nkZGRiIyMrHJfqVSK8PBwhIeHN3gbiYiIqOnjLSCIiIhItBh0iIiISLQYdIiIiEi0GHSIiIhItBh0iIiISLQYdIiIiEi0GHSIiIhItBh0iIiISLQYdIiIiEi0GHSIiIhItBh0iIiISLQYdIiIiEi0GHSIiIhItBh0iIiISLQYdIiIiEi0GHSIiIhItBh0iIiISLQYdIiIiEi0GHSIiIhItBh0iIiISLQYdIiIiEi0GHSIiIhItBh0iIiISLQYdIiIiEi0GHSIiIhItBh0iIiISLQYdIiIiEi0GHSIiIhItBh0iIiISLQYdIiIiEi0GHSIiIhItBh0iIiISLQYdIiIiEi0jBJ0MjMzERERAQ8PD3h5eWHp0qUoKyurct+EhAQMHz4cbm5uCA0NxenTp6vcb9euXXB2dtZns4mIiKiJMUrQiY6Ohrm5OY4dO4bdu3fj+PHj2LJlS6X9Dh8+jEWLFmHOnDlISkrCK6+8gilTpiAlJUVrv8uXL2PZsmUGaj0RERE1FQYPOtevX8epU6cwe/ZsKJVKODg4ICIiAvHx8ZX2PXDgAIKCgjB06FDIZDL4+fnBw8MDe/bs0exTWFiIN954Ay+99JIhu0FERERNgNzQL3j58mVYWVmhXbt2mjJHR0ekp6fj/v37sLS01JSrVCqYm5trHS+VSrVmdGJiYjBkyBAMGDAA69evr1ObVCpVnY6rTZ36qJuaL44r0heOLdIHfY0rXeozeNDJz8+HUqnUKqt4XlBQoBV0/P39sXDhQvj7+6NPnz44cuQIjh8/Dk9PTwDAV199hatXr2LJkiU4c+ZMnduUnJxc52ONWTc1XxxXpC8cW6QPxhxXBg865ubmKCws1CqreG5hYaFVHhgYiKysLCxYsAC5ubkYPHgwgoKCUFhYiJSUFKxevRrx8fGQy+vXDRcXF8hksnrV8TiVSoXk5GS91E3NF8cV6QvHFumDvsZVRb21YfCg4+TkhJycHNy7dw+2trYAgKtXr8LOzg4tW7bU2vfu3bvw9vZGWFiYpmzs2LHw8/PDoUOHcP/+fYwePRrA39NYHh4eWLRoEUaMGFHrNslkMr39Yuuzbmq+OK5IXzi2SB+MOa4Mvhi5U6dOcHd3x7Jly5CXl4e0tDTExcUhJCSk0r6nT59GWFgYbt26heLiYmzZsgXXrl3D6NGjMX36dJw/fx5JSUlISkrSrM9JSkrSKeQQERGReBnl4+WxsbEoKyuDr68vxo4dC29vb0RERAAA3NzcsG/fPgBAQEAAQkNDERoaiv79++Pw4cPYunUrWrdubYxmExERURNj8FNXAGBra4vY2Ngqt507d07reWRkJCIjI2us08vLC3/88UeDtI+IiIjEgbeAICIiItFi0CEiIiLRYtAhIiIi0WLQISIiItFi0CEiIiLRYtAhIiIi0WLQISIiItHSOeikpaXpox1EREREDU7noPPCCy8gLCwMX331FYqKivTRJiIiIqIGoXPQOXr0KIYOHYrNmzdj4MCBWLBgQaWrGRMRERE1BjrfAqJ169YIDw9HeHg4fvvtNxw8eBBz586FVCpFcHAwxowZAxsbG320lYiIqF5UKhVKS0uN3YxmQ6VSAQCKiop0vnu5iYkJpNL6LyWu872uysrKkJ6ejvT0dGRmZqJjx4745ZdfsH79esybNw+jR4+ud+OIiIgagiAIuH37NnJycozdlGZFEATI5XJcv34dEolEp2OlUik6d+4MExOTerVB56Bz/vx5fPXVV/jmm28gkUgQFBSE7du3o1u3bgCA//73vww6RETUqFSEnLZt28Lc3FznP7pUN4IgoLCwEEqlUqefuVqtRnp6Ov766y907NixXv9eOgedCRMm4LnnnsPixYvh4+MDhUKhtb179+7w8fGpc4OIiIgakkql0oSc1q1bG7s5zYogCFCr1TAzM9M5rLRp0wbp6ekoKyurlDV0oXPQ+f7772FmZgYzMzMoFAqkpKTA2toa1tbWAIAOHTpg+fLldW4QERFRQ6pYk2Nubm7klpAuKk5ZqVSqegUdnVf5pKSkYPDgwfjtt98AAPv27YO/vz9+/fXXOjeCiIhI33i6qmlpqH8vnWd0Vq5ciX//+99wdXUFAERHR8PBwQHLli3Djh07GqRRRERERA1B5xmd1NRUvPjii1plY8aMwZUrVxqsUUREREQNoU7X0fn111/Ru3dvTdmFCxdga2vboA0jIiJqzhYuXIj9+/cDKL+kS2lpKZRKpWb7xx9/DA8Pj1rX9+qrr8LDwwOvvfZag7e1MavTp66mTp2K0NBQ2NvbIz09HTt37kRkZKQ+2kdERKQXgiCgsFRl0NdUKmS1XnsSExODmJgYAEBCQgLWrl2L7777rs6vvWnTpjof25TpHHQmTZqEli1bYu/evfj222/x1FNP4d///jeCgoL00T4iIqIGJwgCQtYfx5nr2QZ9XY+nrbHrtf71Xmh78+ZN+Pr6YvLkydizZw+CgoLw9ttv44MPPsCRI0dw+/ZtmJmZISAgAPPnz4dEIkFYWBj69u2LqKgozJ07FyYmJrhz5w5OnjwJGxsbTJo0CS+99FID9bTxqNOVkceMGYMxY8Y0dFuIiIgMRgyfwcrPz8dPP/2EoqIibN26FceOHcPWrVvRtm1bnDt3DhMnTsTzzz+P/v37Vzo2ISEBGzZswNq1a7F7927ExMTA398f7dq1M0JP9EfnoJOdnY3PPvsMGRkZUKvVAMqvUfDnn39i3759Dd5AIiKihiaRSLDrtf6N+tRVbYwaNQomJiYwMTHB2LFjMXr0aLRu3Rp37txBUVERLCwskJGRUeWxXl5eeO655wAAwcHBWLRoEW7cuMGg8/bbbyM1NRU2NjbIy8tD+/bt8eOPP2LChAn6aB8REZFeSCQSmJvU+ZaPjULbtm01jwsLCxETE4PTp0/Dzs4OPXr00FyZuCpt2rTRPK64IF91+zZlOv8Lnz59Gl9//TUyMjKwceNGrF27Fl999RUOHDigj/YRERFRNR6dHZo/fz5atWqFH3/8EaamplCr1fD09DRi6xoHna+jI5fL0a5dO3Tq1Al//PEHACAwMFBzpWQiIiIyvLy8PJiamkIqlSIvLw8rVqxAXl6e5hYYzZXOQcfe3h4XLlyApaUl8vPzkZWVhYKCAhQVFemjfURERFQL8+fPx6VLl9C3b18MHz4ceXl58Pb2xp9//mnsphmVzqeuxo8fj7CwMBw8eBBBQUGYNGkS5HI5p8eIiIj05PFPO3fo0EFzVqVCr169kJCQUG0dn332meZxVTfffrw+sdA56ISEhKBr166wtbXF7Nmz8emnnyI/Px/h4eH6aB8RERFRnekcdMaMGYNt27Zpbp8+derUBm8UERERUUPQeY3OnTt39NEOIiIiogan84yOr68vXnrpJfj7+6Nt27ZaH20bNWpUQ7aNiIiIqF50DjrHjh0DAHz55Zda5RKJhEGHiIiIGhWdg0597pxaITMzEwsWLMCpU6cgk8kwcuRIzJkzB3J55eYkJCRg48aNyMjIQNeuXfHWW29pPuFVXFyMVatW4dChQ8jPz0eXLl3w5ptvol+/fvVuIxERETV9dboycnVq+xHz6OhotGvXDseOHcO9e/cwffp0bNmyBa+++qrWfocPH8aiRYsQGxuLQYMG4fDhw5gyZQoSEhLQpUsXrFq1CmfPnsWXX36Jtm3bYs+ePXjttdfw9ddfo3379rp2jYiIiERG56ATFhZWqUwqleKpp57C4cOHazz++vXrOHXqFH744QcolUo4ODggIiICK1eurBR0Dhw4gKCgIAwdOhQA4Ofnh507d2LPnj2YPXs2iouLMXPmTDz11FMAgLFjx2LVqlW4ePEigw4RERHpHnQuXbqk9TwrKwvr1q2Dvb19rY6/fPkyrKystO6O6ujoiPT0dNy/fx+WlpaacpVKBXNzc63jpVIpUlJSAAAxMTFa244fP44HDx6gW7duOvVJpWr4u9dW1KmPuqn54rgifRHz2FKpVBAEQfNF9XPnzh20aNGi0t/nqlT8vOvyc6/491KpVJXGpS7jtN63bbWxscHs2bPh7+9fq4sG5ufnQ6lUapVVPC8oKNAKOv7+/li4cCH8/f3Rp08fHDlyBMePH6/yFNn58+cRHR2NyMhIODg46NSH5ORknfZvLHVT88VxRfoi1rEll8tRWFjYpO7OHRERAaVSidWrV1falpCQgLi4OHz99dea69o9Kj09HUFBQThw4ADat2+P5557DmvWrEGfPn0q7ZuUlISpU6fi7NmzNbYpMzMTI0eOxK5du9C+fXts3rwZ586dw9q1a594XGFhYY11P664uBilpaWVJlh01SD3p8/NzUVxcXGt9jU3N6/U4YrnFhYWWuWBgYHIysrCggULkJubi8GDByMoKKjS8bt27cKyZcswc+ZMTJ48Wef2u7i4QCaT6Xzck6hUKiQnJ+ulbmq+OK5IX8Q8toqKinD9+nUolUqYmZkZuzm1NmnSJERFRSE/Px9t2rTR2paQkIBx48bBysqqymMr+mlmZgZzc3OcO3eu2tcxNTUFgFrN0GRlZaGwsFBTb1RU1BP3FwQBhYWFUCqVWpejqQ2pVAqFQoFnnnmm0r9bxXitDZ2Dzttvv631vLS0FGfOnMGAAQNqdbyTkxNycnJw79492NraAgCuXr0KOzs7tGzZUmvfu3fvwtvbW2td0NixY+Hn5wegvKOLFy/Gt99+i3Xr1tW6DY+TyWR6+8XWZ93UfHFckb6IcWzJZDJIJBLNl4YgAKUFhm2Mwhyo5R/8IUOGoH379ti7d6/WXQjOnz+Py5cvY+HChXjttdfwxx9/ICsrCx06dMDs2bMxdOhQTT8r+uzs7Ixt27bBy8sLd+7cwcKFC3Hq1ClYW1sjMDBQsy9Q/unqjRs34vr16ygoKICLiwveffddODg4YMSIEQCAESNGYNmyZbh69SpOnTqluY/W//73P8TFxSE1NRVt2rTBP//5TwQHB0MikeDtt9+GiYkJ7ty5g5MnT8LGxgaTJk3CSy+9VGX/K9pe3zFZ7xkdU1NThIWFITQ0tFb7d+rUCe7u7li2bBliYmKQnZ2NuLg4hISEVNr39OnTeO+997Bjxw7Y2triiy++wLVr1zB69GgAwHvvvYcffvgBe/bsqfUaISIiIggC8Ik/kHbSsK/r0A8I/0+two5UKsX48ePx+eefY8qUKZog8sUXX2D48OGYN28efH19sXbtWgiCgFWrVuGdd97RfICnOq+//jqsra3xww8/4MGDB5g+fbpm2+3btzFr1ix8+OGH8PHxQXZ2NiIjI7Fu3TqsXLkSBw4cgK+vLw4cOIAOHTpgzZo1mmNPnDiB6OhorFixAn5+fvjjjz8QERGB4uJiTVBLSEjAhg0bsHbtWuzevRsxMTHw9/fXWrfb0HQOOu+99x7u378PU1NTmJqa4urVq7Cxsal02ulJYmNjERMTA19fX0ilUowaNQoREREAADc3NyxevBgjR45EQEAAUlJSEBoaioKCAvTs2RNbt25F69atkZWVhfj4eMhkMgQFBWnVX3E8ERFR9XQ7lWIMISEhiI2NxYkTJ9C/f3/k5OTgm2++wfbt22FtbY127dpBEATcunULlpaWyMjIeGJ9t27dQlJSEg4dOoQWLVqgRYsWiIyMxIwZMwCUr7s9ePAgOnbsiLy8PNy+fRvW1tY11guUhxhfX18EBAQAAHr27ImpU6di27ZtmqDj5eWF5557DgAQHByMRYsW4caNG40r6Jw4cQLTp0/Hp59+CldXV+zfvx+ff/45Nm3ahN69e9eqDltbW8TGxla57fHziJGRkYiMjKy0n42NDX7//Xddm09ERFQ+oxL+n0Z96goAWrZsqVn8279/f+zZswc9evRA79698d///hcRERG4e/cuHB0dYWNjU+OnmyoCy6OXYOnYsePfzVMocODAAezYsQMSiQRdu3ZFXl5elRf0fVxmZia6d++uVdahQwekp6drnj+61kihUACA3heI6xx0Vq5ciX//+99wdXUFUH7xPwcHByxbtgw7duxo6PYRERHph0QCmNT+bISxhIWFYfTo0cjOzsbOnTsxc+ZMZGRkYNasWVi7di18fHwAAIcOHcK33377xLrs7OwAAGlpaXB0dARQfrqqQsVs0RdffIGnn34aALBkyRL8+eefNbbT3t4eN27c0Cq7ceOGZj2useh89/LU1FS8+OKLWmVjxozBlStXGqxRREREVO6ZZ56Bu7s7li9fjsLCQvj5+SE/Px8qlUpzeZYrV65g3bp1AICSkpJq62rfvj0GDhyI9957D7m5ubh7967WR8MfPHgAqVQKMzMzCIKAH374AXv37kVpaSmAvz+hlZeXV6nu4OBgfPfdd/jmm2+gUqnw22+/YdOmTfjHP/7RYD+LutA56LRu3Rq//vqrVtmFCxeMntiIiIjEauLEidi7dy/++c9/QqFQoEuXLvjXv/6F2bNnw93dHbNmzUJwcDAUCkWNsy+rV69Gy5YtMXToUAQHB2t9Ynn06NEYMGAAAgMD0a9fP3z00UeYNGkSrl27hpKSEtja2mLYsGEIDQ3FF198oVXvs88+iw8//BAff/wxPDw8EBkZiXHjxtXqGnv6JBF0vFzh1q1b8dFHHyE0NBT29vZIT0/Hzp07ERkZifHjx+urnXqhUqlw/vx5uLq66uU6Ovqqm5ovjivSFzGPraKiIly7dg2dO3duUtfREQNBEFBQUABzc3Odr6PzpH83Xcarzmt0Jk2ahJYtW2Lv3r349ttv8dRTT+Hf//53pU8+ERERERlbna6j8+yzz8LPzw8tWrTAuXPntG7bQERERNRY6LxG55tvvsGoUaOQmpoKoPwKjS+++CKOHj3a0G0jIiIiqhedZ3TWrl2LuLg49OrVCwAwefJkPPPMM1i5ciUGDx7c4A0kIiIiqiudZ3T++usveHt7a5UNHDhQ64JARERERI2BzkHH3t4ex44d0yo7fvy41lUWiYiIGht9X4GXGpaOHwqvls6nrqZOnYoZM2bAz88P9vb2uHXrFv73v//h/fffb5AGERERNSQTExNIpVKkp6ejTZs2MDEx0fmjzlQ3giCguLgYUqlUp5+5IAi4e/cuJBKJ5lYRdaVz0BkxYgTatWuHxMRE/Pbbb3jqqafw6aefwsXFpV4NISIi0gepVIrOnTvjr7/+4jILAxMEAaWlpVAoFDqHS4lEgg4dOtT7uk46B50bN25gz549yMjIgFqtRmpqKlasWIFr167hxIkT9WoMERGRPpiYmKBjx44oKyuDSqUydnOaDZVKhUuXLuGZZ57RObAoFIoGuXilzkFn3rx5EAQB1tbWyMrKQvfu3bF37168/PLL9W4MERGRvlScBqnvqRCqvYpQaWZmZrQrbuu8GPnChQtYt24dIiIi0KJFC8yfPx//7//9Pxw/flwf7SMiIiKqM52DjlKpRKtWrdCxY0fNjcMGDRqElJSUBm8cERERUX3oHHQ6duyIo0ePwsLCAmq1GmlpacjIyEBZWZk+2kdERERUZ3X6ePnMmTNx4MABhIaGYty4cZDJZPD19dVH+4iIiIjqTOeg4+Pjg2+//RatW7dGREQEOnXqhLy8PIwaNUoPzSMiIiKquzrdvbxdu3aaxwEBAQ3WGCIiIqKGpPMaHSIiIqKmgkGHiIiIRItBh4iIiESLQYeIiIhEi0GHiIiIRItBh4iIiESLQYeIiIhEi0GHiIiIRItBh4iIiESLQYeIiIhEi0GHiIiIRItBh4iIiESLQYeIiIhEyyhBJzMzExEREfDw8ICXlxeWLl2KsrKyKvdNSEjA8OHD4ebmhtDQUJw+fVpr+8cff4xBgwbB1dUVYWFhSElJMUQXiIiIqAkwStCJjo6Gubk5jh07ht27d+P48ePYsmVLpf0OHz6MRYsWYc6cOUhKSsIrr7yCKVOmaMJMYmIiPvvsM2zevBknT55Ez549MXPmTAiCYOAeERERUWNk8KBz/fp1nDp1CrNnz4ZSqYSDgwMiIiIQHx9fad8DBw4gKCgIQ4cOhUwmg5+fHzw8PLBnzx4AwM6dOzF+/Hg4OTnB1NQUb775JtLT03Hy5ElDd4uIiIgaIbmhX/Dy5cuwsrJCu3btNGWOjo5IT0/H/fv3YWlpqSlXqVQwNzfXOl4qlWpmdK5cuYIpU6ZotikUCnTq1AmXLl1Cv379at0mlUpV1+7UWKc+6qbmi+OK9IVji/RBX+NKl/oMHnTy8/OhVCq1yiqeFxQUaAUdf39/LFy4EP7+/ujTpw+OHDmC48ePw9PTs9q6zMzMUFBQoFObkpOT69IVo9dNzRfHFekLxxbpgzHHlcGDjrm5OQoLC7XKKp5bWFholQcGBiIrKwsLFixAbm4uBg8ejKCgIM3+SqUSRUVFWscUFRVVqqcmLi4ukMlkunbliVQqFZKTk/VSNzVfHFekLxxbpA/6GlcV9daGwYOOk5MTcnJycO/ePdja2gIArl69Cjs7O7Rs2VJr37t378Lb2xthYWGasrFjx8LPz09T1+XLlzF06FAAQGlpKVJTU9G1a1ed2iSTyfT2i63Puqn54rgifeHYIn0w5rgy+GLkTp06wd3dHcuWLUNeXh7S0tIQFxeHkJCQSvuePn0aYWFhuHXrFoqLi7FlyxZcu3YNo0ePBgAEBwdj+/btuHTpEoqLi7F69WrY2trCw8PD0N0iIiKiRsjgMzoAEBsbi5iYGPj6+kIqlWLUqFGIiIgAALi5uWHx4sUYOXIkAgICkJKSgtDQUBQUFKBnz57YunUrWrduDQAICQnBgwcPMGPGDGRlZcHFxQUbNmyAQqEwRreIiIiokTFK0LG1tUVsbGyV286dO6f1PDIyEpGRkVXuK5FIEB4ejvDw8AZvIxERETV9vAUEERERiRaDDhEREYkWgw4RERGJFoMOERERiRaDDhEREYkWgw4RERGJFoMOERERiRaDDhEREYkWgw4RERGJFoMOERERiRaDDhEREYkWgw4RERGJFoMOERERiRaDDhEREYkWgw4RERGJFoMOERERiRaDDhEREYkWgw4RERGJFoMOERERiRaDDhEREYkWgw4RERGJFoMOERERiRaDDhEREYkWgw4RERGJFoMOERERiRaDDhEREYkWgw4RERGJFoMOERERiRaDDhEREYkWgw4RERGJFoMOERERiRaDDhEREYkWgw4RERGJllGCTmZmJiIiIuDh4QEvLy8sXboUZWVlVe67detW+Pj4oE+fPhgxYgQOHTqk2VZUVISFCxfiueeeg6enJyZNmoRLly4ZqhtERETUyBkl6ERHR8Pc3BzHjh3D7t27cfz4cWzZsqXSfkePHsWGDRuwadMmnD17FpGRkYiOjsbNmzcBAGvWrEFqaioOHjyIn376Cd26dUNkZKSBe0NERESNlcGDzvXr13Hq1CnMnj0bSqUSDg4OiIiIQHx8fKV9U1JSIAiC5ksmk0GhUEAulwMArl69qtkGAFKpFEql0qD9ISIiosZLbugXvHz5MqysrNCuXTtNmaOjI9LT03H//n1YWlpqygMDA5GQkICAgADIZDJIJBKsXLkSdnZ2AIDw8HBERUWhX79+kMlksLa2xrZt23Ruk0qlqn/HqqlTH3VT88VxRfrCsUX6oK9xpUt9Bg86+fn5lWZdKp4XFBRoBZ3S0lJ069YNS5cuRbdu3bB//37MmzcPjo6OcHZ2hkqlgr+/P2bMmAELCwusWLECERER2LdvH0xNTWvdpuTk5IbpnIHrpuaL44r0hWOL9MGY48rgQcfc3ByFhYVaZRXPLSwstMqXLFmCPn36oHfv3gCA4OBgHDhwAImJiXjzzTcxa9YsbNy4UTM7tGDBAnh6euKnn36Cj49Prdvk4uICmUxWn25VolKpkJycrJe6qfniuCJ94dgifdDXuKqotzYMHnScnJyQk5ODe/fuwdbWFkD5Whs7Ozu0bNlSa9/09HT06tVLq0wul0OhUKCgoAC5ubkoKSnRbKs4vaVQKHRqk0wm09svtj7rpuaL44r0hWOL9MGY48rgi5E7deoEd3d3LFu2DHl5eUhLS0NcXBxCQkIq7evj44Pt27fj4sWLUKvV+M9//oOTJ08iICAArVq1gru7O1atWoXMzEwUFxdj5cqVsLa2hru7u6G7RURERI2QUT5eHhsbi7KyMvj6+mLs2LHw9vZGREQEAMDNzQ379u0DAERGRmLChAmIioqCp6cnNm7ciHXr1qF79+6aejp16oSRI0di0KBBuHr1KjZv3gxzc3NjdIuIiIgaGYOfugIAW1tbxMbGVrnt3LlzmsdyuRxRUVGIioqqtp4VK1bopY1ERETU9PEWEERERCRaDDpEREQkWgw6REREJFoMOkRERCRaDDpEREQkWgw6REREJFoMOkRERCRaDDpEREQkWgw6REREJFoMOkRERCRaDDpEREQkWgw6REREJFoMOkRERCRaDDpEREQkWgw6REREJFoMOkRERCRaDDpEREQkWgw6REREJFoMOkRERCRaDDpEREQkWgw6REREJFoMOkRERCRaDDpEREQkWgw6REREJFoMOkRERCRaDDpEREQkWgw6REREJFoMOkRERCRaDDpEREQkWgw6REREJFoMOkRERCRaDDpEREQkWgw6REREJFpGCTqZmZmIiIiAh4cHvLy8sHTpUpSVlVW579atW+Hj44M+ffpgxIgROHTokNb2zz//HMOGDYObmxtGjBiB77//3hBdICIioibAKEEnOjoa5ubmOHbsGHbv3o3jx49jy5YtlfY7evQoNmzYgE2bNuHs2bOIjIxEdHQ0bt68CQBITEzEunXrsHr1apw9exbTpk1DVFQUMjIyDNwjIiIiaowMHnSuX7+OU6dOYfbs2VAqlXBwcEBERATi4+Mr7ZuSkgJBEDRfMpkMCoUCcrkcAPDJJ59g1qxZ6N27NyQSCYKCgvDll1+iRYsWhu4WERERNUJyQ7/g5cuXYWVlhXbt2mnKHB0dkZ6ejvv378PS0lJTHhgYiISEBAQEBEAmk0EikWDlypWws7NDYWEhLl++DKlUigkTJuDKlSvo3Lkz3nrrLVhYWOjUJpVK1WD9e7xOfdRNzRfHFekLxxbpg77GlS71GTzo5OfnQ6lUapVVPC8oKNAKOqWlpejWrRuWLl2Kbt26Yf/+/Zg3bx4cHR1hZWUFQRDwySef4MMPP8TTTz+NnTt3YsqUKdi/fz86dOhQ6zYlJyc3TOcMXDc1XxxXpC8cW6QPxhxXBg865ubmKCws1CqreP74TMySJUvQp08f9O7dGwAQHByMAwcOIDExEVOnTgUATJ48GU5OTgCAiRMn4osvvsDRo0cxYcKEWrfJxcUFMpmszn2qikqlQnJysl7qpuaL44r0hWOL9EFf46qi3toweNBxcnJCTk4O7t27B1tbWwDA1atXYWdnh5YtW2rtm56ejl69emmVyeVyKBQK2NjYoHXr1igpKdHaXpfpMZlMprdfbH3WTc0XxxXpC8cW6YMxx5XBFyN36tQJ7u7uWLZsGfLy8pCWloa4uDiEhIRU2tfHxwfbt2/HxYsXoVar8Z///AcnT55EQEAAAGDcuHFYt24dfv/9d5SVlWHbtm3IyMjA888/b+huERERUSNk8BkdAIiNjUVMTAx8fX0hlUoxatQoREREAADc3NywePFijBw5EpGRkZDJZIiKikJubi6efvpprFu3Dt27dwcAREZGokWLFoiOjsadO3fQpUsXfPzxx1oLnYmIiKj5MkrQsbW1RWxsbJXbzp07p3ksl8sRFRWFqKioKveVSqUIDw9HeHi4XtpJRERETZtRgg4RERmZqhQoLQTKisq/lxTANP8WkGsLKMwAmQKQmQByU0AqByQSY7eYqE4YdIiIjE0QAFWJdvDQ+l4AlBZVs62K76WFQFnhw2MKqz5W0P7ghgxALwD4rpo2ykwefimqeFxVWVWPTXXYt4bHcpPK5VIFIOUtHEkbgw4R0eMEoZoQUVQ5QJQW1D6AaAWRx8ogGK+/ciUEuSnUZaWQQgVJWXHl9qhKyr8aO6lcz+HrCdvlprV/bSk/2WYoDDpE1Pip1VXMUNTmezWhoqbQUlZkvL5KpIBcWX766PHvCmX126r8Xot95KaARAK1SoXz58/D1dW1/GPAalV5sCkrLj/NVRF06vW4tvs+Yfvj7XlsZgrqsvKvUuP889WaRFpDiKpixqquM2By07rXIYLTlgw6RKQ7taoWp0pq+K7LMapi4/VVIgMU5o8FhIrQUdV3XfZVVg4vMkXj+MMilQHSh+1rzNSq2gWkSo9rE+BqUV9ZLV9P/VjyEtTGD9W1VWkGrPbhSyJToKVpbwCuRms+gw6RGDy+sLTK9R3VhQldjnm4z+Nv2oYkVTwSFB6d7TCvIVTosu8j32UK4/WVaiaVlX8pzIzdkicThBrCUAPNnGmCV11nzqr4T0U9TltKAdi3SgL8ptTv51cPDDpEjVVpEZCdCmRdBbJSgKwUSDOvosfda5D+oNYOHo9P3xuSzLRhT6Vo7VtF8ODaBmqKJJLyBdRyE2O35MkE4eEsWXEdAlflMnVpMa6XdYCzEbvEoENkTCUFD8NMilagQWYKcP8WHl8QKgFQ44kE+eOnS+p5KuWJ380YPIjERCIBZPLyL1jUuHtNBJUKhefP17ue+mDQIdK3knwg69rfISbr6t/P79968rGmloBNF82X2rozrtwthGP3ZyEztag6rDSG9R1ERI0Egw5RQyjOA7KvAZmPzMpUfD3468nHmrYCWncBbBz/DjWtHz42b60VXASVCg/OnwfsXQHeeJGIqEYMOkS1VfzgkVNLj8zKZF0F8jKefKzS+pGZmccCjdKaszBERHrCoEP0qKJc7dmYzEce59958rFKm79nYrQCTWfA3MYw7SciIi0MOtT8FOZUPr1Uccqp4N6TjzW31T61pPnqXD4zQ0REjQqDDolTQZb2qaVHA01h1pOPtWj7yKmlLtqBxqyVYdpPREQNgkGHmiZBAAqzH1v8+8jjwuwnH9+infappYoZGuvOgJmlYfpARER6x6BDjZcgAAWZ2qeWHg00RblPPr7lU4+dXnp4ysm6M2DawjB9ICIio2LQIeMSBCD/buW1MhVfxfeffLyl/d+zMo9+msmmM2BS/4tdERFR08agQ/onCOUfv65q8W/WNaDkwZOPt+zw2FqZitNMnQATc4N0gYiImiYGHWoYggA8uF31rQyyUoDS/CccLAFaOWivlakINNZPN/67JxMRUaPFoEO1p1aXX+W30uLfh59uKi2o/liJ9GGYeezKvxUzM3JTg3WDiIiaDwYd0qZWAw/Sq76VQdY1oKyw+mMlMsCqY9VhxqojwwwRERkcg05zpFaV30xSK8xc+/tmk6ri6o+VyMpPJ1V1K4NWDoDcxHD9ICIiqgGDjlipVUBuWhW3MrgKZKcCqpLqj5XKy08nVXUrA6uOgExhqF4QERHVC4NOU6YqexhmHrnBZMUsTXYqoC6t/lipojzMVLqVQZfymRkZhwYRETV9/GvW2KlKgZwbj5xaeuTj2TnXAXVZ9cfKTMovjtf6kRmZitmZVh0Aqcxw/SAiIjICBp3GoKzkYZip4lYG2dcBQVX9sXKz8jDz+K0MbBwBy/YMM0RE1Kwx6BhKWUn5DExVtzLISashzCgfzsZ0qfyJppbtAanUcP0gIiJqQhh09OXyt3D49XNIL94vDzO5NwFBXf3+CvOqb2XQ2hFoYccwQ0REVAcMOvqgKoV0ZxjaPr4YWGHxyK0MHg8z7QCJxDjtJSIiEikGHX2QKSCMWIPbF4+hXfd+kNo6lQeaFm0ZZoiIiAyIQUdPhN5jka7uirauroCMC4KJiIiMgQs/iIiISLQYdIiIiEi0jBJ0MjMzERERAQ8PD3h5eWHp0qUoK6v6wndbt26Fj48P+vTpgxEjRuDQoUNV7rdr1y44Ozvrs9lERETUxBgl6ERHR8Pc3BzHjh3D7t27cfz4cWzZsqXSfkePHsWGDRuwadMmnD17FpGRkYiOjsbNmze19rt8+TKWLVtmoNYTERFRU2HwoHP9+nWcOnUKs2fPhlKphIODAyIiIhAfH19p35SUFAiCoPmSyWRQKBSQy/9eQ11YWIg33ngDL730kiG7QURERE2AwT91dfnyZVhZWaFdu3aaMkdHR6Snp+P+/fuwtLTUlAcGBiIhIQEBAQGQyWSQSCRYuXIl7OzsNPvExMRgyJAhGDBgANavX1+nNqlUT7gqcR1V1KmPuqn54rgifeHYIn3Q17jSpT6DB538/HwolUqtsornBQUFWkGntLQU3bp1w9KlS9GtWzfs378f8+bNg6OjI5ydnfHVV1/h6tWrWLJkCc6cOVPnNiUnJ9f5WGPWTc0XxxXpC8cW6YMxx5XBg465uTkKCwu1yiqeW1hYaJUvWbIEffr0Qe/evQEAwcHBOHDgABITEzF27FisXr0a8fHxWqey6sLFxQWyBr7WjUqlQnJysl7qpuaL44r0hWOL9EFf46qi3toweNBxcnJCTk4O7t27B1tbWwDA1atXYWdnh5YtW2rtm56ejl69emmVyeVyKBQKHDp0CPfv38fo0aMB/D2N5eHhgUWLFmHEiBG1bpNMJtPbL7Y+66bmi+OK9IVji/TBmOPK4IuRO3XqBHd3dyxbtgx5eXlIS0tDXFwcQkJCKu3r4+OD7du34+LFi1Cr1fjPf/6DkydPIiAgANOnT8f58+eRlJSEpKQkzfqcpKQknUIOERERiZdRbgERGxuLmJgY+Pr6QiqVYtSoUYiIiAAAuLm5YfHixRg5ciQiIyMhk8kQFRWF3NxcPP3001i3bh26d+9ujGYTERFRE2OUoGNra4vY2Ngqt507d07zWC6XIyoqClFRUTXW6eXlhT/++KPB2khERERNH28BQURERKLVrO9eLggCAF5Hh5oOjivSF44t0gd9X0en4u/4k0iE2uwlUiUlJbxmBBERURPl4uICExOTJ+7TrIOOWq1GWVkZpFIpJBKJsZtDREREtSAIAtRqNeRyOaTSJ6/CadZBh4iIiMSNi5GJiIhItBh0iIiISLQYdIiIiEi0GHSIiIhItBh0iIiISLQYdIiIiEi0GHSIiIhItBh0iIiISLQYdBpQVlYWhg0bhpMnT2rKfvnlF7z44otwc3ODj48Pdu3aZcQWUlPy9ddfo0ePHnBzc9N8zZ49GwDHFemuLu9PiYmJGDZsGFxdXTFmzBicO3fO0M2mRqw+71EGHVsCNYikpCTh+eefF7p27SqcOHFCEARByMnJEfr27Sts375dKC0tFX7++WfBzc1N+OWXX4zcWmoKli9fLsydO7dSOccV6aou708nTpwQ3NzchKSkJKGkpET49NNPBS8vL6GgoMCYXaFGpK7vUYYeW5zRaQCJiYl466238Prrr2uVf/vtt7CyssKECRMgl8vRv39/jBgxAvHx8UZqKTUlycnJ6NWrV6VyjivSRV3fn3bt2oXAwEC4u7tDoVDg5ZdfhrW1Nb7++mtjdIMaobq+Rxl6bDHoNICBAwfiv//9LwICArTKL1++jK5du2qVPfPMM7h06ZIhm0dNkFqtxsWLF3HkyBEMHToUgwYNwoIFC5Cbm8txRTqp6/vTlStXOM6oWvV5jzL02GLQaQBt2rSBXC6vVJ6fnw+lUqlVZmZmhoKCAkM1jZqorKws9OjRA/7+/vj666+xY8cOpKamYvbs2RxXpJO6vj9xnNGT1Oc9ytBji0FHj5RKJYqKirTKioqKYGFhYaQWUVNha2uL+Ph4hISEQKlUon379pg9ezZ++OEHCILAcUX1VtP7E9+/6Enq8x5l6LHFoKNHXbt2xeXLl7XKrly5AicnJyO1iJqKS5cuYdWqVRAEQVNWUlICqVSK3r17c1xRvdX0/uTk5MRxRtWqz3uUoccWg44eDRs2DPfu3cOWLVtQWlqKEydOYP/+/QgODjZ206iRs7KyQnx8PDZt2oSysjKkp6dj5cqVGD16NPz9/TmuqN5qen8KCQnB/v37ceLECZSWlmLLli3IzMzEsGHDjNxyagzq8x5l8LGll89yNWOPfnxTEATh119/FUJDQwU3NzfB19dX2LNnjxFbR03JyZMnNWOnX79+wpIlS4SioiJBEDiuqG50fX/au3ev4O/vL7i6ugohISHC+fPnDd1kasTq8x5lyLElEYRH5p2IiIiIRISnroiIiEi0GHSIiIhItBh0iIiISLQYdIiIiEi0GHSIiIhItBh0iIiISLQYdIiIiEi0GHSIqMlSqVRIS0szyGulpqYa5HWIqGEx6BBRk/X6669j7969AID09HS4ubkhPT29wV8nPj4eCxYsaPB6iUj/5MZuABFRXWVnZ2set2/fHufOndPL62RlZemlXiLSP87oEFG93bx5E87Ozti1axd8fHzg7u6OyZMn4/bt2zUeKwgCtm3bBn9/f3h4eGD8+PG4cOGCZvuhQ4cQGBgId3d3vPDCC4iLiwMAzJs3D0lJSdiwYQNee+01TRtu3rwJAHB2dsaXX34Jf39/PPvss3jttddw4cIFjBs3Dm5ubggODsb169cBlN91+f3338cLL7wANzc39O/fH0uWLIEgCEhMTMSGDRuQlJQEDw8PAOUBa8GCBRg4cCC8vLwwbdo0zamtinYsX74cnp6eWLx4MTIyMvDqq6+ib9++GDRoECIjI3Hnzp2G/Ccgouro7S5aRNRspKWlCV27dhUiIiKE3Nxc4e7du0JQUJCwYMGCGo/dvn27MGTIEOH3338XSkpKhF27dgkeHh7C3bt3hcLCQsHFxUVzI8qLFy8Krq6uwi+//CIIgiBMnDhRiI2N1WpDWlqaIAjlN7CcMGGCkJ2dLWRkZAgeHh6Ct7e3cOXKFSE/P18YN26cMHfuXEEQBGHjxo1CYGCgkJGRIQiCIJw9e1bo0aOH8PPPPwuCIAixsbHCxIkTNW2eOHGi8NJLLwl37twRCgsLheXLlwuDBw8WHjx4oGnH/PnzheLiYiE3N1f417/+JcybN08oKSkRHjx4IEyePFlYsmRJA/30iehJeOqKiBrMlClTYGlpCQDw8fGp1amk+Ph4TJs2Dd26dQMAhISEYPfu3di3bx/Gjx8PMzMz7N69G2q1Gn369MGZM2cgldZuMnrixImwsrICADg5OaFHjx5wdHQEAPTr1w9nzpwBAIwdOxajR49G69atcefOHRQVFcHCwgIZGRmV6kxLS8OpU6dw8OBBtGnTBgDw1ltvYf/+/Th69CieffZZAMCoUaNgYmICExMTmJqa4vTp0zh48CD69++PTZs21boPRFQ//E0jogZja2ureSyXyyEIQo3H3Lp1C++//z48PDw0X5cuXUJ6ejrMzMzwxRdfQK1W480334SnpyfmzJmD3NzcWrWnIuQAgEwmQ6tWrTTPpVKppn2FhYVYuHAh+vbti1deeQV79+6FIAhQq9WV6rx37x4AwMHBQavup556Crdu3dKUtW3bVvN4/vz5CAgIwObNmzF48GCMGTMGSUlJteoDEdUPZ3SIyKjs7Owwc+ZMBAYGaspu3LgBKysr5OXl4c6dO1i9ejUA4Pfff8cbb7yB9evXY86cOTXWLZFIatWG+fPno1WrVvjxxx9hamoKtVoNT0/PKve1t7fXtNHJyQlA+cfc09PTNTM8j7/2b7/9htDQUERFRSErKwvr1q1DZGQkTpw4Uav2EVHdcUaHiIxq7Nix+Oijj3D16lUAwLFjxxAYGIjTp08jPz8fU6ZMwf79+yEIAtq2bQupVApra2sAgImJCR48eFDvNuTl5cHU1BRSqRR5eXlYsWIF8vLyUFpaCgAwNTVFXl6epg2DBw/Gu+++i7t376KoqAirVq2CSqXC0KFDq6x//fr1WLJkCfLy8mBpaQmlUqnpAxHpF4MOERnVyy+/jFGjRiEiIgJubm5YunQpFi5cCF9fX7Rr1w6xsbH4+OOP0adPHwQFBaFfv354+eWXAZSvg9mzZw/Gjx9frzbMnz8fly5dQt++fTF8+HDk5eXB29sbf/75JwBg6NChyMnJgbu7O+7fv48VK1bAwcEBo0ePxoABA/DHH39g69atWqfKHhUTEwO1Wg1fX194enril19+wYcfflivNhNR7UiE2pxEJyIiImqCOKNDREREosXFyESkN59++iliY2Or3T5ixAjExMQYsEVE1Nzw1BURERGJFk9dERERkWgx6BAREZFoMegQERGRaDHoEBERkWgx6BAREZFoMegQERGRaDHoEBERkWgx6BAREZFo/X+jWFnyUVOQkgAAAABJRU5ErkJggg==",
      "text/plain": [
       "<Figure size 640x480 with 1 Axes>"
      ]
     },
     "metadata": {},
     "output_type": "display_data"
    }
   ],
   "source": [
    "accuracy_list_train = []\n",
    "accuracy_list_val = []\n",
    "for n_estimators in n_estimators_list:\n",
    "    # You can fit the model at the same time you define it, because the fit function returns the fitted estimator.\n",
    "    model = RandomForestClassifier(n_estimators = n_estimators,\n",
    "                                   random_state = RANDOM_STATE).fit(X_train,y_train) \n",
    "    predictions_train = model.predict(X_train) ## The predicted values for the train dataset\n",
    "    predictions_val = model.predict(X_val) ## The predicted values for the test dataset\n",
    "    accuracy_train = accuracy_score(predictions_train,y_train)\n",
    "    accuracy_val = accuracy_score(predictions_val,y_val)\n",
    "    accuracy_list_train.append(accuracy_train)\n",
    "    accuracy_list_val.append(accuracy_val)\n",
    "\n",
    "plt.title('Train x Validation metrics')\n",
    "plt.xlabel('n_estimators')\n",
    "plt.ylabel('accuracy')\n",
    "plt.xticks(ticks = range(len(n_estimators_list )),labels=n_estimators_list)\n",
    "plt.plot(accuracy_list_train)\n",
    "plt.plot(accuracy_list_val)\n",
    "plt.legend(['Train','Validation'])"
   ]
  },
  {
   "cell_type": "code",
   "execution_count": 12,
   "metadata": {},
   "outputs": [
    {
     "name": "stdout",
     "output_type": "stream",
     "text": [
      "Metrics train:\n",
      "\tAccuracy score: 0.8852\n",
      "Metrics test:\n",
      "\tAccuracy score: 0.8401\n"
     ]
    }
   ],
   "source": [
    "random_forest_model = RandomForestClassifier(n_estimators = 50,\n",
    "                                             max_depth = 8, \n",
    "                                             min_samples_split = 100).fit(X_train,y_train)\n",
    "\n",
    "print(f\"Metrics train:\\n\\tAccuracy score: {accuracy_score(random_forest_model.predict(X_train),y_train):.4f}\\nMetrics test:\\n\\tAccuracy score: {accuracy_score(random_forest_model.predict(X_val),y_val):.4f}\")"
   ]
  },
  {
   "cell_type": "markdown",
   "metadata": {},
   "source": [
    "## XGBoost"
   ]
  },
  {
   "cell_type": "code",
   "execution_count": 13,
   "metadata": {},
   "outputs": [],
   "source": [
    "n = int(len(X_train)*0.8) ## Let's use 80% to train and 20% to eval"
   ]
  },
  {
   "cell_type": "code",
   "execution_count": 14,
   "metadata": {},
   "outputs": [],
   "source": [
    "X_train_fit, X_train_eval, y_train_fit, y_train_eval = X_train[:n], X_train[n:], y_train[:n], y_train[n:]"
   ]
  },
  {
   "cell_type": "code",
   "execution_count": 15,
   "metadata": {},
   "outputs": [
    {
     "name": "stdout",
     "output_type": "stream",
     "text": [
      "[0]\tvalidation_0-logloss:0.63263\n",
      "[1]\tvalidation_0-logloss:0.58586\n",
      "[2]\tvalidation_0-logloss:0.54688\n",
      "[3]\tvalidation_0-logloss:0.51368\n",
      "[4]\tvalidation_0-logloss:0.48644\n",
      "[5]\tvalidation_0-logloss:0.46313\n",
      "[6]\tvalidation_0-logloss:0.44251\n",
      "[7]\tvalidation_0-logloss:0.42511\n",
      "[8]\tvalidation_0-logloss:0.40917\n",
      "[9]\tvalidation_0-logloss:0.39560\n",
      "[10]\tvalidation_0-logloss:0.38406\n",
      "[11]\tvalidation_0-logloss:0.37452\n",
      "[12]\tvalidation_0-logloss:0.36648\n",
      "[13]\tvalidation_0-logloss:0.35942\n",
      "[14]\tvalidation_0-logloss:0.35219\n",
      "[15]\tvalidation_0-logloss:0.34573\n",
      "[16]\tvalidation_0-logloss:0.33927\n",
      "[17]\tvalidation_0-logloss:0.33469\n",
      "[18]\tvalidation_0-logloss:0.32999\n",
      "[19]\tvalidation_0-logloss:0.32590\n",
      "[20]\tvalidation_0-logloss:0.32313\n",
      "[21]\tvalidation_0-logloss:0.32084\n",
      "[22]\tvalidation_0-logloss:0.31773\n",
      "[23]\tvalidation_0-logloss:0.31529\n",
      "[24]\tvalidation_0-logloss:0.31329\n",
      "[25]\tvalidation_0-logloss:0.31154\n",
      "[26]\tvalidation_0-logloss:0.30926\n",
      "[27]\tvalidation_0-logloss:0.30828\n",
      "[28]\tvalidation_0-logloss:0.30697\n",
      "[29]\tvalidation_0-logloss:0.30520\n",
      "[30]\tvalidation_0-logloss:0.30432\n",
      "[31]\tvalidation_0-logloss:0.30322\n",
      "[32]\tvalidation_0-logloss:0.30231\n",
      "[33]\tvalidation_0-logloss:0.30144\n",
      "[34]\tvalidation_0-logloss:0.30034\n",
      "[35]\tvalidation_0-logloss:0.29985\n",
      "[36]\tvalidation_0-logloss:0.29977\n",
      "[37]\tvalidation_0-logloss:0.29957\n",
      "[38]\tvalidation_0-logloss:0.29875\n",
      "[39]\tvalidation_0-logloss:0.29825\n",
      "[40]\tvalidation_0-logloss:0.29793\n",
      "[41]\tvalidation_0-logloss:0.29736\n",
      "[42]\tvalidation_0-logloss:0.29722\n",
      "[43]\tvalidation_0-logloss:0.29762\n",
      "[44]\tvalidation_0-logloss:0.29772\n",
      "[45]\tvalidation_0-logloss:0.29726\n",
      "[46]\tvalidation_0-logloss:0.29731\n",
      "[47]\tvalidation_0-logloss:0.29717\n",
      "[48]\tvalidation_0-logloss:0.29698\n",
      "[49]\tvalidation_0-logloss:0.29734\n",
      "[50]\tvalidation_0-logloss:0.29727\n",
      "[51]\tvalidation_0-logloss:0.29727\n",
      "[52]\tvalidation_0-logloss:0.29730\n",
      "[53]\tvalidation_0-logloss:0.29741\n",
      "[54]\tvalidation_0-logloss:0.29790\n",
      "[55]\tvalidation_0-logloss:0.29768\n",
      "[56]\tvalidation_0-logloss:0.29764\n",
      "[57]\tvalidation_0-logloss:0.29766\n"
     ]
    },
    {
     "data": {
      "text/html": [
       "<style>#sk-container-id-1 {\n",
       "  /* Definition of color scheme common for light and dark mode */\n",
       "  --sklearn-color-text: black;\n",
       "  --sklearn-color-line: gray;\n",
       "  /* Definition of color scheme for unfitted estimators */\n",
       "  --sklearn-color-unfitted-level-0: #fff5e6;\n",
       "  --sklearn-color-unfitted-level-1: #f6e4d2;\n",
       "  --sklearn-color-unfitted-level-2: #ffe0b3;\n",
       "  --sklearn-color-unfitted-level-3: chocolate;\n",
       "  /* Definition of color scheme for fitted estimators */\n",
       "  --sklearn-color-fitted-level-0: #f0f8ff;\n",
       "  --sklearn-color-fitted-level-1: #d4ebff;\n",
       "  --sklearn-color-fitted-level-2: #b3dbfd;\n",
       "  --sklearn-color-fitted-level-3: cornflowerblue;\n",
       "\n",
       "  /* Specific color for light theme */\n",
       "  --sklearn-color-text-on-default-background: var(--sg-text-color, var(--theme-code-foreground, var(--jp-content-font-color1, black)));\n",
       "  --sklearn-color-background: var(--sg-background-color, var(--theme-background, var(--jp-layout-color0, white)));\n",
       "  --sklearn-color-border-box: var(--sg-text-color, var(--theme-code-foreground, var(--jp-content-font-color1, black)));\n",
       "  --sklearn-color-icon: #696969;\n",
       "\n",
       "  @media (prefers-color-scheme: dark) {\n",
       "    /* Redefinition of color scheme for dark theme */\n",
       "    --sklearn-color-text-on-default-background: var(--sg-text-color, var(--theme-code-foreground, var(--jp-content-font-color1, white)));\n",
       "    --sklearn-color-background: var(--sg-background-color, var(--theme-background, var(--jp-layout-color0, #111)));\n",
       "    --sklearn-color-border-box: var(--sg-text-color, var(--theme-code-foreground, var(--jp-content-font-color1, white)));\n",
       "    --sklearn-color-icon: #878787;\n",
       "  }\n",
       "}\n",
       "\n",
       "#sk-container-id-1 {\n",
       "  color: var(--sklearn-color-text);\n",
       "}\n",
       "\n",
       "#sk-container-id-1 pre {\n",
       "  padding: 0;\n",
       "}\n",
       "\n",
       "#sk-container-id-1 input.sk-hidden--visually {\n",
       "  border: 0;\n",
       "  clip: rect(1px 1px 1px 1px);\n",
       "  clip: rect(1px, 1px, 1px, 1px);\n",
       "  height: 1px;\n",
       "  margin: -1px;\n",
       "  overflow: hidden;\n",
       "  padding: 0;\n",
       "  position: absolute;\n",
       "  width: 1px;\n",
       "}\n",
       "\n",
       "#sk-container-id-1 div.sk-dashed-wrapped {\n",
       "  border: 1px dashed var(--sklearn-color-line);\n",
       "  margin: 0 0.4em 0.5em 0.4em;\n",
       "  box-sizing: border-box;\n",
       "  padding-bottom: 0.4em;\n",
       "  background-color: var(--sklearn-color-background);\n",
       "}\n",
       "\n",
       "#sk-container-id-1 div.sk-container {\n",
       "  /* jupyter's `normalize.less` sets `[hidden] { display: none; }`\n",
       "     but bootstrap.min.css set `[hidden] { display: none !important; }`\n",
       "     so we also need the `!important` here to be able to override the\n",
       "     default hidden behavior on the sphinx rendered scikit-learn.org.\n",
       "     See: https://github.com/scikit-learn/scikit-learn/issues/21755 */\n",
       "  display: inline-block !important;\n",
       "  position: relative;\n",
       "}\n",
       "\n",
       "#sk-container-id-1 div.sk-text-repr-fallback {\n",
       "  display: none;\n",
       "}\n",
       "\n",
       "div.sk-parallel-item,\n",
       "div.sk-serial,\n",
       "div.sk-item {\n",
       "  /* draw centered vertical line to link estimators */\n",
       "  background-image: linear-gradient(var(--sklearn-color-text-on-default-background), var(--sklearn-color-text-on-default-background));\n",
       "  background-size: 2px 100%;\n",
       "  background-repeat: no-repeat;\n",
       "  background-position: center center;\n",
       "}\n",
       "\n",
       "/* Parallel-specific style estimator block */\n",
       "\n",
       "#sk-container-id-1 div.sk-parallel-item::after {\n",
       "  content: \"\";\n",
       "  width: 100%;\n",
       "  border-bottom: 2px solid var(--sklearn-color-text-on-default-background);\n",
       "  flex-grow: 1;\n",
       "}\n",
       "\n",
       "#sk-container-id-1 div.sk-parallel {\n",
       "  display: flex;\n",
       "  align-items: stretch;\n",
       "  justify-content: center;\n",
       "  background-color: var(--sklearn-color-background);\n",
       "  position: relative;\n",
       "}\n",
       "\n",
       "#sk-container-id-1 div.sk-parallel-item {\n",
       "  display: flex;\n",
       "  flex-direction: column;\n",
       "}\n",
       "\n",
       "#sk-container-id-1 div.sk-parallel-item:first-child::after {\n",
       "  align-self: flex-end;\n",
       "  width: 50%;\n",
       "}\n",
       "\n",
       "#sk-container-id-1 div.sk-parallel-item:last-child::after {\n",
       "  align-self: flex-start;\n",
       "  width: 50%;\n",
       "}\n",
       "\n",
       "#sk-container-id-1 div.sk-parallel-item:only-child::after {\n",
       "  width: 0;\n",
       "}\n",
       "\n",
       "/* Serial-specific style estimator block */\n",
       "\n",
       "#sk-container-id-1 div.sk-serial {\n",
       "  display: flex;\n",
       "  flex-direction: column;\n",
       "  align-items: center;\n",
       "  background-color: var(--sklearn-color-background);\n",
       "  padding-right: 1em;\n",
       "  padding-left: 1em;\n",
       "}\n",
       "\n",
       "\n",
       "/* Toggleable style: style used for estimator/Pipeline/ColumnTransformer box that is\n",
       "clickable and can be expanded/collapsed.\n",
       "- Pipeline and ColumnTransformer use this feature and define the default style\n",
       "- Estimators will overwrite some part of the style using the `sk-estimator` class\n",
       "*/\n",
       "\n",
       "/* Pipeline and ColumnTransformer style (default) */\n",
       "\n",
       "#sk-container-id-1 div.sk-toggleable {\n",
       "  /* Default theme specific background. It is overwritten whether we have a\n",
       "  specific estimator or a Pipeline/ColumnTransformer */\n",
       "  background-color: var(--sklearn-color-background);\n",
       "}\n",
       "\n",
       "/* Toggleable label */\n",
       "#sk-container-id-1 label.sk-toggleable__label {\n",
       "  cursor: pointer;\n",
       "  display: block;\n",
       "  width: 100%;\n",
       "  margin-bottom: 0;\n",
       "  padding: 0.5em;\n",
       "  box-sizing: border-box;\n",
       "  text-align: center;\n",
       "}\n",
       "\n",
       "#sk-container-id-1 label.sk-toggleable__label-arrow:before {\n",
       "  /* Arrow on the left of the label */\n",
       "  content: \"▸\";\n",
       "  float: left;\n",
       "  margin-right: 0.25em;\n",
       "  color: var(--sklearn-color-icon);\n",
       "}\n",
       "\n",
       "#sk-container-id-1 label.sk-toggleable__label-arrow:hover:before {\n",
       "  color: var(--sklearn-color-text);\n",
       "}\n",
       "\n",
       "/* Toggleable content - dropdown */\n",
       "\n",
       "#sk-container-id-1 div.sk-toggleable__content {\n",
       "  max-height: 0;\n",
       "  max-width: 0;\n",
       "  overflow: hidden;\n",
       "  text-align: left;\n",
       "  /* unfitted */\n",
       "  background-color: var(--sklearn-color-unfitted-level-0);\n",
       "}\n",
       "\n",
       "#sk-container-id-1 div.sk-toggleable__content.fitted {\n",
       "  /* fitted */\n",
       "  background-color: var(--sklearn-color-fitted-level-0);\n",
       "}\n",
       "\n",
       "#sk-container-id-1 div.sk-toggleable__content pre {\n",
       "  margin: 0.2em;\n",
       "  border-radius: 0.25em;\n",
       "  color: var(--sklearn-color-text);\n",
       "  /* unfitted */\n",
       "  background-color: var(--sklearn-color-unfitted-level-0);\n",
       "}\n",
       "\n",
       "#sk-container-id-1 div.sk-toggleable__content.fitted pre {\n",
       "  /* unfitted */\n",
       "  background-color: var(--sklearn-color-fitted-level-0);\n",
       "}\n",
       "\n",
       "#sk-container-id-1 input.sk-toggleable__control:checked~div.sk-toggleable__content {\n",
       "  /* Expand drop-down */\n",
       "  max-height: 200px;\n",
       "  max-width: 100%;\n",
       "  overflow: auto;\n",
       "}\n",
       "\n",
       "#sk-container-id-1 input.sk-toggleable__control:checked~label.sk-toggleable__label-arrow:before {\n",
       "  content: \"▾\";\n",
       "}\n",
       "\n",
       "/* Pipeline/ColumnTransformer-specific style */\n",
       "\n",
       "#sk-container-id-1 div.sk-label input.sk-toggleable__control:checked~label.sk-toggleable__label {\n",
       "  color: var(--sklearn-color-text);\n",
       "  background-color: var(--sklearn-color-unfitted-level-2);\n",
       "}\n",
       "\n",
       "#sk-container-id-1 div.sk-label.fitted input.sk-toggleable__control:checked~label.sk-toggleable__label {\n",
       "  background-color: var(--sklearn-color-fitted-level-2);\n",
       "}\n",
       "\n",
       "/* Estimator-specific style */\n",
       "\n",
       "/* Colorize estimator box */\n",
       "#sk-container-id-1 div.sk-estimator input.sk-toggleable__control:checked~label.sk-toggleable__label {\n",
       "  /* unfitted */\n",
       "  background-color: var(--sklearn-color-unfitted-level-2);\n",
       "}\n",
       "\n",
       "#sk-container-id-1 div.sk-estimator.fitted input.sk-toggleable__control:checked~label.sk-toggleable__label {\n",
       "  /* fitted */\n",
       "  background-color: var(--sklearn-color-fitted-level-2);\n",
       "}\n",
       "\n",
       "#sk-container-id-1 div.sk-label label.sk-toggleable__label,\n",
       "#sk-container-id-1 div.sk-label label {\n",
       "  /* The background is the default theme color */\n",
       "  color: var(--sklearn-color-text-on-default-background);\n",
       "}\n",
       "\n",
       "/* On hover, darken the color of the background */\n",
       "#sk-container-id-1 div.sk-label:hover label.sk-toggleable__label {\n",
       "  color: var(--sklearn-color-text);\n",
       "  background-color: var(--sklearn-color-unfitted-level-2);\n",
       "}\n",
       "\n",
       "/* Label box, darken color on hover, fitted */\n",
       "#sk-container-id-1 div.sk-label.fitted:hover label.sk-toggleable__label.fitted {\n",
       "  color: var(--sklearn-color-text);\n",
       "  background-color: var(--sklearn-color-fitted-level-2);\n",
       "}\n",
       "\n",
       "/* Estimator label */\n",
       "\n",
       "#sk-container-id-1 div.sk-label label {\n",
       "  font-family: monospace;\n",
       "  font-weight: bold;\n",
       "  display: inline-block;\n",
       "  line-height: 1.2em;\n",
       "}\n",
       "\n",
       "#sk-container-id-1 div.sk-label-container {\n",
       "  text-align: center;\n",
       "}\n",
       "\n",
       "/* Estimator-specific */\n",
       "#sk-container-id-1 div.sk-estimator {\n",
       "  font-family: monospace;\n",
       "  border: 1px dotted var(--sklearn-color-border-box);\n",
       "  border-radius: 0.25em;\n",
       "  box-sizing: border-box;\n",
       "  margin-bottom: 0.5em;\n",
       "  /* unfitted */\n",
       "  background-color: var(--sklearn-color-unfitted-level-0);\n",
       "}\n",
       "\n",
       "#sk-container-id-1 div.sk-estimator.fitted {\n",
       "  /* fitted */\n",
       "  background-color: var(--sklearn-color-fitted-level-0);\n",
       "}\n",
       "\n",
       "/* on hover */\n",
       "#sk-container-id-1 div.sk-estimator:hover {\n",
       "  /* unfitted */\n",
       "  background-color: var(--sklearn-color-unfitted-level-2);\n",
       "}\n",
       "\n",
       "#sk-container-id-1 div.sk-estimator.fitted:hover {\n",
       "  /* fitted */\n",
       "  background-color: var(--sklearn-color-fitted-level-2);\n",
       "}\n",
       "\n",
       "/* Specification for estimator info (e.g. \"i\" and \"?\") */\n",
       "\n",
       "/* Common style for \"i\" and \"?\" */\n",
       "\n",
       ".sk-estimator-doc-link,\n",
       "a:link.sk-estimator-doc-link,\n",
       "a:visited.sk-estimator-doc-link {\n",
       "  float: right;\n",
       "  font-size: smaller;\n",
       "  line-height: 1em;\n",
       "  font-family: monospace;\n",
       "  background-color: var(--sklearn-color-background);\n",
       "  border-radius: 1em;\n",
       "  height: 1em;\n",
       "  width: 1em;\n",
       "  text-decoration: none !important;\n",
       "  margin-left: 1ex;\n",
       "  /* unfitted */\n",
       "  border: var(--sklearn-color-unfitted-level-1) 1pt solid;\n",
       "  color: var(--sklearn-color-unfitted-level-1);\n",
       "}\n",
       "\n",
       ".sk-estimator-doc-link.fitted,\n",
       "a:link.sk-estimator-doc-link.fitted,\n",
       "a:visited.sk-estimator-doc-link.fitted {\n",
       "  /* fitted */\n",
       "  border: var(--sklearn-color-fitted-level-1) 1pt solid;\n",
       "  color: var(--sklearn-color-fitted-level-1);\n",
       "}\n",
       "\n",
       "/* On hover */\n",
       "div.sk-estimator:hover .sk-estimator-doc-link:hover,\n",
       ".sk-estimator-doc-link:hover,\n",
       "div.sk-label-container:hover .sk-estimator-doc-link:hover,\n",
       ".sk-estimator-doc-link:hover {\n",
       "  /* unfitted */\n",
       "  background-color: var(--sklearn-color-unfitted-level-3);\n",
       "  color: var(--sklearn-color-background);\n",
       "  text-decoration: none;\n",
       "}\n",
       "\n",
       "div.sk-estimator.fitted:hover .sk-estimator-doc-link.fitted:hover,\n",
       ".sk-estimator-doc-link.fitted:hover,\n",
       "div.sk-label-container:hover .sk-estimator-doc-link.fitted:hover,\n",
       ".sk-estimator-doc-link.fitted:hover {\n",
       "  /* fitted */\n",
       "  background-color: var(--sklearn-color-fitted-level-3);\n",
       "  color: var(--sklearn-color-background);\n",
       "  text-decoration: none;\n",
       "}\n",
       "\n",
       "/* Span, style for the box shown on hovering the info icon */\n",
       ".sk-estimator-doc-link span {\n",
       "  display: none;\n",
       "  z-index: 9999;\n",
       "  position: relative;\n",
       "  font-weight: normal;\n",
       "  right: .2ex;\n",
       "  padding: .5ex;\n",
       "  margin: .5ex;\n",
       "  width: min-content;\n",
       "  min-width: 20ex;\n",
       "  max-width: 50ex;\n",
       "  color: var(--sklearn-color-text);\n",
       "  box-shadow: 2pt 2pt 4pt #999;\n",
       "  /* unfitted */\n",
       "  background: var(--sklearn-color-unfitted-level-0);\n",
       "  border: .5pt solid var(--sklearn-color-unfitted-level-3);\n",
       "}\n",
       "\n",
       ".sk-estimator-doc-link.fitted span {\n",
       "  /* fitted */\n",
       "  background: var(--sklearn-color-fitted-level-0);\n",
       "  border: var(--sklearn-color-fitted-level-3);\n",
       "}\n",
       "\n",
       ".sk-estimator-doc-link:hover span {\n",
       "  display: block;\n",
       "}\n",
       "\n",
       "/* \"?\"-specific style due to the `<a>` HTML tag */\n",
       "\n",
       "#sk-container-id-1 a.estimator_doc_link {\n",
       "  float: right;\n",
       "  font-size: 1rem;\n",
       "  line-height: 1em;\n",
       "  font-family: monospace;\n",
       "  background-color: var(--sklearn-color-background);\n",
       "  border-radius: 1rem;\n",
       "  height: 1rem;\n",
       "  width: 1rem;\n",
       "  text-decoration: none;\n",
       "  /* unfitted */\n",
       "  color: var(--sklearn-color-unfitted-level-1);\n",
       "  border: var(--sklearn-color-unfitted-level-1) 1pt solid;\n",
       "}\n",
       "\n",
       "#sk-container-id-1 a.estimator_doc_link.fitted {\n",
       "  /* fitted */\n",
       "  border: var(--sklearn-color-fitted-level-1) 1pt solid;\n",
       "  color: var(--sklearn-color-fitted-level-1);\n",
       "}\n",
       "\n",
       "/* On hover */\n",
       "#sk-container-id-1 a.estimator_doc_link:hover {\n",
       "  /* unfitted */\n",
       "  background-color: var(--sklearn-color-unfitted-level-3);\n",
       "  color: var(--sklearn-color-background);\n",
       "  text-decoration: none;\n",
       "}\n",
       "\n",
       "#sk-container-id-1 a.estimator_doc_link.fitted:hover {\n",
       "  /* fitted */\n",
       "  background-color: var(--sklearn-color-fitted-level-3);\n",
       "}\n",
       "</style><div id=\"sk-container-id-1\" class=\"sk-top-container\"><div class=\"sk-text-repr-fallback\"><pre>XGBClassifier(base_score=None, booster=None, callbacks=None,\n",
       "              colsample_bylevel=None, colsample_bynode=None,\n",
       "              colsample_bytree=None, device=None, early_stopping_rounds=10,\n",
       "              enable_categorical=False, eval_metric=None, feature_types=None,\n",
       "              gamma=None, grow_policy=None, importance_type=None,\n",
       "              interaction_constraints=None, learning_rate=0.1, max_bin=None,\n",
       "              max_cat_threshold=None, max_cat_to_onehot=None,\n",
       "              max_delta_step=None, max_depth=None, max_leaves=None,\n",
       "              min_child_weight=None, missing=nan, monotone_constraints=None,\n",
       "              multi_strategy=None, n_estimators=500, n_jobs=None,\n",
       "              num_parallel_tree=None, random_state=55, ...)</pre><b>In a Jupyter environment, please rerun this cell to show the HTML representation or trust the notebook. <br />On GitHub, the HTML representation is unable to render, please try loading this page with nbviewer.org.</b></div><div class=\"sk-container\" hidden><div class=\"sk-item\"><div class=\"sk-estimator fitted sk-toggleable\"><input class=\"sk-toggleable__control sk-hidden--visually\" id=\"sk-estimator-id-1\" type=\"checkbox\" checked><label for=\"sk-estimator-id-1\" class=\"sk-toggleable__label fitted sk-toggleable__label-arrow fitted\">&nbsp;XGBClassifier<span class=\"sk-estimator-doc-link fitted\">i<span>Fitted</span></span></label><div class=\"sk-toggleable__content fitted\"><pre>XGBClassifier(base_score=None, booster=None, callbacks=None,\n",
       "              colsample_bylevel=None, colsample_bynode=None,\n",
       "              colsample_bytree=None, device=None, early_stopping_rounds=10,\n",
       "              enable_categorical=False, eval_metric=None, feature_types=None,\n",
       "              gamma=None, grow_policy=None, importance_type=None,\n",
       "              interaction_constraints=None, learning_rate=0.1, max_bin=None,\n",
       "              max_cat_threshold=None, max_cat_to_onehot=None,\n",
       "              max_delta_step=None, max_depth=None, max_leaves=None,\n",
       "              min_child_weight=None, missing=nan, monotone_constraints=None,\n",
       "              multi_strategy=None, n_estimators=500, n_jobs=None,\n",
       "              num_parallel_tree=None, random_state=55, ...)</pre></div> </div></div></div></div>"
      ],
      "text/plain": [
       "XGBClassifier(base_score=None, booster=None, callbacks=None,\n",
       "              colsample_bylevel=None, colsample_bynode=None,\n",
       "              colsample_bytree=None, device=None, early_stopping_rounds=10,\n",
       "              enable_categorical=False, eval_metric=None, feature_types=None,\n",
       "              gamma=None, grow_policy=None, importance_type=None,\n",
       "              interaction_constraints=None, learning_rate=0.1, max_bin=None,\n",
       "              max_cat_threshold=None, max_cat_to_onehot=None,\n",
       "              max_delta_step=None, max_depth=None, max_leaves=None,\n",
       "              min_child_weight=None, missing=nan, monotone_constraints=None,\n",
       "              multi_strategy=None, n_estimators=500, n_jobs=None,\n",
       "              num_parallel_tree=None, random_state=55, ...)"
      ]
     },
     "execution_count": 15,
     "metadata": {},
     "output_type": "execute_result"
    }
   ],
   "source": [
    "xgb_model = XGBClassifier(n_estimators = 500, learning_rate = 0.1,verbosity = 1, random_state = RANDOM_STATE, early_stopping_rounds=10)\n",
    "xgb_model.fit(X_train_fit,y_train_fit, eval_set = [(X_train_eval,y_train_eval)])"
   ]
  },
  {
   "cell_type": "code",
   "execution_count": 16,
   "metadata": {},
   "outputs": [
    {
     "name": "stdout",
     "output_type": "stream",
     "text": [
      "Metrics train:\n",
      "\tAccuracy score: 0.9155\n",
      "Metrics test:\n",
      "\tAccuracy score: 0.8517\n"
     ]
    }
   ],
   "source": [
    "xgb_model.best_iteration\n",
    "print(f\"Metrics train:\\n\\tAccuracy score: {accuracy_score(xgb_model.predict(X_train),y_train):.4f}\\nMetrics test:\\n\\tAccuracy score: {accuracy_score(xgb_model.predict(X_val),y_val):.4f}\")"
   ]
  },
  {
<<<<<<< HEAD
   "cell_type": "markdown",
   "metadata": {},
   "source": [
    "**Testing out Grid Search for Hyperparameter tuning**"
   ]
  },
  {
=======
>>>>>>> bd352da (Classifier data wrangling and modelling.)
   "cell_type": "code",
   "execution_count": null,
   "metadata": {},
   "outputs": [],
<<<<<<< HEAD
   "source": [
    "# Define the hyperparameter grid\n",
    "param_grid = {\n",
    "    'max_depth': [3, 5, 7],\n",
    "    'learning_rate': [0.1, 0.01, 0.001],\n",
    "    'subsample': [0.5, 0.7, 1]\n",
    "}\n",
    "\n",
    "# Create the XGBoost model object\n",
    "xgb_model = xgb.XGBClassifier()\n",
    "\n",
    "# Create the GridSearchCV object\n",
    "grid_search = GridSearchCV(xgb_model, param_grid, cv=5, scoring='accuracy')\n",
    "\n",
    "# Fit the GridSearchCV object to the training data\n",
    "grid_search.fit(X_train, y_train)\n",
    "\n",
    "# Print the best set of hyperparameters and the corresponding score\n",
    "print(\"Best set of hyperparameters: \", grid_search.best_params_)\n",
    "print(\"Best score: \", grid_search.best_score_)"
   ]
=======
   "source": []
>>>>>>> bd352da (Classifier data wrangling and modelling.)
  }
 ],
 "metadata": {
  "kernelspec": {
   "display_name": "base",
   "language": "python",
   "name": "python3"
  },
  "language_info": {
   "codemirror_mode": {
    "name": "ipython",
    "version": 3
   },
   "file_extension": ".py",
   "mimetype": "text/x-python",
   "name": "python",
   "nbconvert_exporter": "python",
   "pygments_lexer": "ipython3",
   "version": "3.12.4"
  }
 },
 "nbformat": 4,
 "nbformat_minor": 2
}
